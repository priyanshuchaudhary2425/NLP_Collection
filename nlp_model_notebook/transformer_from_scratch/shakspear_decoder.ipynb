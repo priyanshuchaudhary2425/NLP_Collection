{
  "metadata": {
    "colab": {
      "provenance": [],
      "gpuType": "T4"
    },
    "kernelspec": {
      "name": "python3",
      "display_name": "Python 3"
    },
    "language_info": {
      "name": "python",
      "version": "3.10.13",
      "mimetype": "text/x-python",
      "codemirror_mode": {
        "name": "ipython",
        "version": 3
      },
      "pygments_lexer": "ipython3",
      "nbconvert_exporter": "python",
      "file_extension": ".py"
    },
    "widgets": {
      "application/vnd.jupyter.widget-state+json": {
        "5728b1fa6329429a90aa1b9cc5367490": {
          "model_module": "@jupyter-widgets/controls",
          "model_name": "HBoxModel",
          "model_module_version": "1.5.0",
          "state": {
            "_dom_classes": [],
            "_model_module": "@jupyter-widgets/controls",
            "_model_module_version": "1.5.0",
            "_model_name": "HBoxModel",
            "_view_count": null,
            "_view_module": "@jupyter-widgets/controls",
            "_view_module_version": "1.5.0",
            "_view_name": "HBoxView",
            "box_style": "",
            "children": [
              "IPY_MODEL_f844f2ed463c45ac9d70620075432e90",
              "IPY_MODEL_df599275c61643dc9a92656917943867",
              "IPY_MODEL_449d4659373c4c59b615dcd8af6c8d19"
            ],
            "layout": "IPY_MODEL_46107a12f1e4434a893cb32bb46c67db"
          }
        },
        "f844f2ed463c45ac9d70620075432e90": {
          "model_module": "@jupyter-widgets/controls",
          "model_name": "HTMLModel",
          "model_module_version": "1.5.0",
          "state": {
            "_dom_classes": [],
            "_model_module": "@jupyter-widgets/controls",
            "_model_module_version": "1.5.0",
            "_model_name": "HTMLModel",
            "_view_count": null,
            "_view_module": "@jupyter-widgets/controls",
            "_view_module_version": "1.5.0",
            "_view_name": "HTMLView",
            "description": "",
            "description_tooltip": null,
            "layout": "IPY_MODEL_265980614a59473397798c32f20283d3",
            "placeholder": "​",
            "style": "IPY_MODEL_99af37a0171746a78e76f2b7b2d0c5a2",
            "value": "tokenizer_config.json: 100%"
          }
        },
        "df599275c61643dc9a92656917943867": {
          "model_module": "@jupyter-widgets/controls",
          "model_name": "FloatProgressModel",
          "model_module_version": "1.5.0",
          "state": {
            "_dom_classes": [],
            "_model_module": "@jupyter-widgets/controls",
            "_model_module_version": "1.5.0",
            "_model_name": "FloatProgressModel",
            "_view_count": null,
            "_view_module": "@jupyter-widgets/controls",
            "_view_module_version": "1.5.0",
            "_view_name": "ProgressView",
            "bar_style": "success",
            "description": "",
            "description_tooltip": null,
            "layout": "IPY_MODEL_7e200bec38264a488fb532757b1e95a2",
            "max": 26,
            "min": 0,
            "orientation": "horizontal",
            "style": "IPY_MODEL_bf869cbe14ab44c1a6b6ad94a84f9210",
            "value": 26
          }
        },
        "449d4659373c4c59b615dcd8af6c8d19": {
          "model_module": "@jupyter-widgets/controls",
          "model_name": "HTMLModel",
          "model_module_version": "1.5.0",
          "state": {
            "_dom_classes": [],
            "_model_module": "@jupyter-widgets/controls",
            "_model_module_version": "1.5.0",
            "_model_name": "HTMLModel",
            "_view_count": null,
            "_view_module": "@jupyter-widgets/controls",
            "_view_module_version": "1.5.0",
            "_view_name": "HTMLView",
            "description": "",
            "description_tooltip": null,
            "layout": "IPY_MODEL_371839bb78f44365baa61a55c942f84e",
            "placeholder": "​",
            "style": "IPY_MODEL_9ba519a22a7e4f4295aba33f3e83cea8",
            "value": " 26.0/26.0 [00:00&lt;00:00, 317B/s]"
          }
        },
        "46107a12f1e4434a893cb32bb46c67db": {
          "model_module": "@jupyter-widgets/base",
          "model_name": "LayoutModel",
          "model_module_version": "1.2.0",
          "state": {
            "_model_module": "@jupyter-widgets/base",
            "_model_module_version": "1.2.0",
            "_model_name": "LayoutModel",
            "_view_count": null,
            "_view_module": "@jupyter-widgets/base",
            "_view_module_version": "1.2.0",
            "_view_name": "LayoutView",
            "align_content": null,
            "align_items": null,
            "align_self": null,
            "border": null,
            "bottom": null,
            "display": null,
            "flex": null,
            "flex_flow": null,
            "grid_area": null,
            "grid_auto_columns": null,
            "grid_auto_flow": null,
            "grid_auto_rows": null,
            "grid_column": null,
            "grid_gap": null,
            "grid_row": null,
            "grid_template_areas": null,
            "grid_template_columns": null,
            "grid_template_rows": null,
            "height": null,
            "justify_content": null,
            "justify_items": null,
            "left": null,
            "margin": null,
            "max_height": null,
            "max_width": null,
            "min_height": null,
            "min_width": null,
            "object_fit": null,
            "object_position": null,
            "order": null,
            "overflow": null,
            "overflow_x": null,
            "overflow_y": null,
            "padding": null,
            "right": null,
            "top": null,
            "visibility": null,
            "width": null
          }
        },
        "265980614a59473397798c32f20283d3": {
          "model_module": "@jupyter-widgets/base",
          "model_name": "LayoutModel",
          "model_module_version": "1.2.0",
          "state": {
            "_model_module": "@jupyter-widgets/base",
            "_model_module_version": "1.2.0",
            "_model_name": "LayoutModel",
            "_view_count": null,
            "_view_module": "@jupyter-widgets/base",
            "_view_module_version": "1.2.0",
            "_view_name": "LayoutView",
            "align_content": null,
            "align_items": null,
            "align_self": null,
            "border": null,
            "bottom": null,
            "display": null,
            "flex": null,
            "flex_flow": null,
            "grid_area": null,
            "grid_auto_columns": null,
            "grid_auto_flow": null,
            "grid_auto_rows": null,
            "grid_column": null,
            "grid_gap": null,
            "grid_row": null,
            "grid_template_areas": null,
            "grid_template_columns": null,
            "grid_template_rows": null,
            "height": null,
            "justify_content": null,
            "justify_items": null,
            "left": null,
            "margin": null,
            "max_height": null,
            "max_width": null,
            "min_height": null,
            "min_width": null,
            "object_fit": null,
            "object_position": null,
            "order": null,
            "overflow": null,
            "overflow_x": null,
            "overflow_y": null,
            "padding": null,
            "right": null,
            "top": null,
            "visibility": null,
            "width": null
          }
        },
        "99af37a0171746a78e76f2b7b2d0c5a2": {
          "model_module": "@jupyter-widgets/controls",
          "model_name": "DescriptionStyleModel",
          "model_module_version": "1.5.0",
          "state": {
            "_model_module": "@jupyter-widgets/controls",
            "_model_module_version": "1.5.0",
            "_model_name": "DescriptionStyleModel",
            "_view_count": null,
            "_view_module": "@jupyter-widgets/base",
            "_view_module_version": "1.2.0",
            "_view_name": "StyleView",
            "description_width": ""
          }
        },
        "7e200bec38264a488fb532757b1e95a2": {
          "model_module": "@jupyter-widgets/base",
          "model_name": "LayoutModel",
          "model_module_version": "1.2.0",
          "state": {
            "_model_module": "@jupyter-widgets/base",
            "_model_module_version": "1.2.0",
            "_model_name": "LayoutModel",
            "_view_count": null,
            "_view_module": "@jupyter-widgets/base",
            "_view_module_version": "1.2.0",
            "_view_name": "LayoutView",
            "align_content": null,
            "align_items": null,
            "align_self": null,
            "border": null,
            "bottom": null,
            "display": null,
            "flex": null,
            "flex_flow": null,
            "grid_area": null,
            "grid_auto_columns": null,
            "grid_auto_flow": null,
            "grid_auto_rows": null,
            "grid_column": null,
            "grid_gap": null,
            "grid_row": null,
            "grid_template_areas": null,
            "grid_template_columns": null,
            "grid_template_rows": null,
            "height": null,
            "justify_content": null,
            "justify_items": null,
            "left": null,
            "margin": null,
            "max_height": null,
            "max_width": null,
            "min_height": null,
            "min_width": null,
            "object_fit": null,
            "object_position": null,
            "order": null,
            "overflow": null,
            "overflow_x": null,
            "overflow_y": null,
            "padding": null,
            "right": null,
            "top": null,
            "visibility": null,
            "width": null
          }
        },
        "bf869cbe14ab44c1a6b6ad94a84f9210": {
          "model_module": "@jupyter-widgets/controls",
          "model_name": "ProgressStyleModel",
          "model_module_version": "1.5.0",
          "state": {
            "_model_module": "@jupyter-widgets/controls",
            "_model_module_version": "1.5.0",
            "_model_name": "ProgressStyleModel",
            "_view_count": null,
            "_view_module": "@jupyter-widgets/base",
            "_view_module_version": "1.2.0",
            "_view_name": "StyleView",
            "bar_color": null,
            "description_width": ""
          }
        },
        "371839bb78f44365baa61a55c942f84e": {
          "model_module": "@jupyter-widgets/base",
          "model_name": "LayoutModel",
          "model_module_version": "1.2.0",
          "state": {
            "_model_module": "@jupyter-widgets/base",
            "_model_module_version": "1.2.0",
            "_model_name": "LayoutModel",
            "_view_count": null,
            "_view_module": "@jupyter-widgets/base",
            "_view_module_version": "1.2.0",
            "_view_name": "LayoutView",
            "align_content": null,
            "align_items": null,
            "align_self": null,
            "border": null,
            "bottom": null,
            "display": null,
            "flex": null,
            "flex_flow": null,
            "grid_area": null,
            "grid_auto_columns": null,
            "grid_auto_flow": null,
            "grid_auto_rows": null,
            "grid_column": null,
            "grid_gap": null,
            "grid_row": null,
            "grid_template_areas": null,
            "grid_template_columns": null,
            "grid_template_rows": null,
            "height": null,
            "justify_content": null,
            "justify_items": null,
            "left": null,
            "margin": null,
            "max_height": null,
            "max_width": null,
            "min_height": null,
            "min_width": null,
            "object_fit": null,
            "object_position": null,
            "order": null,
            "overflow": null,
            "overflow_x": null,
            "overflow_y": null,
            "padding": null,
            "right": null,
            "top": null,
            "visibility": null,
            "width": null
          }
        },
        "9ba519a22a7e4f4295aba33f3e83cea8": {
          "model_module": "@jupyter-widgets/controls",
          "model_name": "DescriptionStyleModel",
          "model_module_version": "1.5.0",
          "state": {
            "_model_module": "@jupyter-widgets/controls",
            "_model_module_version": "1.5.0",
            "_model_name": "DescriptionStyleModel",
            "_view_count": null,
            "_view_module": "@jupyter-widgets/base",
            "_view_module_version": "1.2.0",
            "_view_name": "StyleView",
            "description_width": ""
          }
        },
        "e0da712223dc4525a59e29ea55b56d0f": {
          "model_module": "@jupyter-widgets/controls",
          "model_name": "HBoxModel",
          "model_module_version": "1.5.0",
          "state": {
            "_dom_classes": [],
            "_model_module": "@jupyter-widgets/controls",
            "_model_module_version": "1.5.0",
            "_model_name": "HBoxModel",
            "_view_count": null,
            "_view_module": "@jupyter-widgets/controls",
            "_view_module_version": "1.5.0",
            "_view_name": "HBoxView",
            "box_style": "",
            "children": [
              "IPY_MODEL_939f2dfb2c3e4153bd1578b89326ef5b",
              "IPY_MODEL_a66141b62c3740c5b74e9cd5b24a2585",
              "IPY_MODEL_a9518b604a2b488090412ff520c6d667"
            ],
            "layout": "IPY_MODEL_92ee85df530d41b380cc2b966ab55473"
          }
        },
        "939f2dfb2c3e4153bd1578b89326ef5b": {
          "model_module": "@jupyter-widgets/controls",
          "model_name": "HTMLModel",
          "model_module_version": "1.5.0",
          "state": {
            "_dom_classes": [],
            "_model_module": "@jupyter-widgets/controls",
            "_model_module_version": "1.5.0",
            "_model_name": "HTMLModel",
            "_view_count": null,
            "_view_module": "@jupyter-widgets/controls",
            "_view_module_version": "1.5.0",
            "_view_name": "HTMLView",
            "description": "",
            "description_tooltip": null,
            "layout": "IPY_MODEL_136231a5b4844419b51c007052dd868f",
            "placeholder": "​",
            "style": "IPY_MODEL_6fe13de3d3e840f3b3785c48b85c4c79",
            "value": "config.json: 100%"
          }
        },
        "a66141b62c3740c5b74e9cd5b24a2585": {
          "model_module": "@jupyter-widgets/controls",
          "model_name": "FloatProgressModel",
          "model_module_version": "1.5.0",
          "state": {
            "_dom_classes": [],
            "_model_module": "@jupyter-widgets/controls",
            "_model_module_version": "1.5.0",
            "_model_name": "FloatProgressModel",
            "_view_count": null,
            "_view_module": "@jupyter-widgets/controls",
            "_view_module_version": "1.5.0",
            "_view_name": "ProgressView",
            "bar_style": "success",
            "description": "",
            "description_tooltip": null,
            "layout": "IPY_MODEL_96f1753785f34dd69012c78acadc7a30",
            "max": 665,
            "min": 0,
            "orientation": "horizontal",
            "style": "IPY_MODEL_53354efce46641ee9fddda2db2ee497b",
            "value": 665
          }
        },
        "a9518b604a2b488090412ff520c6d667": {
          "model_module": "@jupyter-widgets/controls",
          "model_name": "HTMLModel",
          "model_module_version": "1.5.0",
          "state": {
            "_dom_classes": [],
            "_model_module": "@jupyter-widgets/controls",
            "_model_module_version": "1.5.0",
            "_model_name": "HTMLModel",
            "_view_count": null,
            "_view_module": "@jupyter-widgets/controls",
            "_view_module_version": "1.5.0",
            "_view_name": "HTMLView",
            "description": "",
            "description_tooltip": null,
            "layout": "IPY_MODEL_ee922de5f0474bb6a67eee7e8086a2e7",
            "placeholder": "​",
            "style": "IPY_MODEL_06aeeae71a4d4fadaf93b4d708b3c13c",
            "value": " 665/665 [00:00&lt;00:00, 21.2kB/s]"
          }
        },
        "92ee85df530d41b380cc2b966ab55473": {
          "model_module": "@jupyter-widgets/base",
          "model_name": "LayoutModel",
          "model_module_version": "1.2.0",
          "state": {
            "_model_module": "@jupyter-widgets/base",
            "_model_module_version": "1.2.0",
            "_model_name": "LayoutModel",
            "_view_count": null,
            "_view_module": "@jupyter-widgets/base",
            "_view_module_version": "1.2.0",
            "_view_name": "LayoutView",
            "align_content": null,
            "align_items": null,
            "align_self": null,
            "border": null,
            "bottom": null,
            "display": null,
            "flex": null,
            "flex_flow": null,
            "grid_area": null,
            "grid_auto_columns": null,
            "grid_auto_flow": null,
            "grid_auto_rows": null,
            "grid_column": null,
            "grid_gap": null,
            "grid_row": null,
            "grid_template_areas": null,
            "grid_template_columns": null,
            "grid_template_rows": null,
            "height": null,
            "justify_content": null,
            "justify_items": null,
            "left": null,
            "margin": null,
            "max_height": null,
            "max_width": null,
            "min_height": null,
            "min_width": null,
            "object_fit": null,
            "object_position": null,
            "order": null,
            "overflow": null,
            "overflow_x": null,
            "overflow_y": null,
            "padding": null,
            "right": null,
            "top": null,
            "visibility": null,
            "width": null
          }
        },
        "136231a5b4844419b51c007052dd868f": {
          "model_module": "@jupyter-widgets/base",
          "model_name": "LayoutModel",
          "model_module_version": "1.2.0",
          "state": {
            "_model_module": "@jupyter-widgets/base",
            "_model_module_version": "1.2.0",
            "_model_name": "LayoutModel",
            "_view_count": null,
            "_view_module": "@jupyter-widgets/base",
            "_view_module_version": "1.2.0",
            "_view_name": "LayoutView",
            "align_content": null,
            "align_items": null,
            "align_self": null,
            "border": null,
            "bottom": null,
            "display": null,
            "flex": null,
            "flex_flow": null,
            "grid_area": null,
            "grid_auto_columns": null,
            "grid_auto_flow": null,
            "grid_auto_rows": null,
            "grid_column": null,
            "grid_gap": null,
            "grid_row": null,
            "grid_template_areas": null,
            "grid_template_columns": null,
            "grid_template_rows": null,
            "height": null,
            "justify_content": null,
            "justify_items": null,
            "left": null,
            "margin": null,
            "max_height": null,
            "max_width": null,
            "min_height": null,
            "min_width": null,
            "object_fit": null,
            "object_position": null,
            "order": null,
            "overflow": null,
            "overflow_x": null,
            "overflow_y": null,
            "padding": null,
            "right": null,
            "top": null,
            "visibility": null,
            "width": null
          }
        },
        "6fe13de3d3e840f3b3785c48b85c4c79": {
          "model_module": "@jupyter-widgets/controls",
          "model_name": "DescriptionStyleModel",
          "model_module_version": "1.5.0",
          "state": {
            "_model_module": "@jupyter-widgets/controls",
            "_model_module_version": "1.5.0",
            "_model_name": "DescriptionStyleModel",
            "_view_count": null,
            "_view_module": "@jupyter-widgets/base",
            "_view_module_version": "1.2.0",
            "_view_name": "StyleView",
            "description_width": ""
          }
        },
        "96f1753785f34dd69012c78acadc7a30": {
          "model_module": "@jupyter-widgets/base",
          "model_name": "LayoutModel",
          "model_module_version": "1.2.0",
          "state": {
            "_model_module": "@jupyter-widgets/base",
            "_model_module_version": "1.2.0",
            "_model_name": "LayoutModel",
            "_view_count": null,
            "_view_module": "@jupyter-widgets/base",
            "_view_module_version": "1.2.0",
            "_view_name": "LayoutView",
            "align_content": null,
            "align_items": null,
            "align_self": null,
            "border": null,
            "bottom": null,
            "display": null,
            "flex": null,
            "flex_flow": null,
            "grid_area": null,
            "grid_auto_columns": null,
            "grid_auto_flow": null,
            "grid_auto_rows": null,
            "grid_column": null,
            "grid_gap": null,
            "grid_row": null,
            "grid_template_areas": null,
            "grid_template_columns": null,
            "grid_template_rows": null,
            "height": null,
            "justify_content": null,
            "justify_items": null,
            "left": null,
            "margin": null,
            "max_height": null,
            "max_width": null,
            "min_height": null,
            "min_width": null,
            "object_fit": null,
            "object_position": null,
            "order": null,
            "overflow": null,
            "overflow_x": null,
            "overflow_y": null,
            "padding": null,
            "right": null,
            "top": null,
            "visibility": null,
            "width": null
          }
        },
        "53354efce46641ee9fddda2db2ee497b": {
          "model_module": "@jupyter-widgets/controls",
          "model_name": "ProgressStyleModel",
          "model_module_version": "1.5.0",
          "state": {
            "_model_module": "@jupyter-widgets/controls",
            "_model_module_version": "1.5.0",
            "_model_name": "ProgressStyleModel",
            "_view_count": null,
            "_view_module": "@jupyter-widgets/base",
            "_view_module_version": "1.2.0",
            "_view_name": "StyleView",
            "bar_color": null,
            "description_width": ""
          }
        },
        "ee922de5f0474bb6a67eee7e8086a2e7": {
          "model_module": "@jupyter-widgets/base",
          "model_name": "LayoutModel",
          "model_module_version": "1.2.0",
          "state": {
            "_model_module": "@jupyter-widgets/base",
            "_model_module_version": "1.2.0",
            "_model_name": "LayoutModel",
            "_view_count": null,
            "_view_module": "@jupyter-widgets/base",
            "_view_module_version": "1.2.0",
            "_view_name": "LayoutView",
            "align_content": null,
            "align_items": null,
            "align_self": null,
            "border": null,
            "bottom": null,
            "display": null,
            "flex": null,
            "flex_flow": null,
            "grid_area": null,
            "grid_auto_columns": null,
            "grid_auto_flow": null,
            "grid_auto_rows": null,
            "grid_column": null,
            "grid_gap": null,
            "grid_row": null,
            "grid_template_areas": null,
            "grid_template_columns": null,
            "grid_template_rows": null,
            "height": null,
            "justify_content": null,
            "justify_items": null,
            "left": null,
            "margin": null,
            "max_height": null,
            "max_width": null,
            "min_height": null,
            "min_width": null,
            "object_fit": null,
            "object_position": null,
            "order": null,
            "overflow": null,
            "overflow_x": null,
            "overflow_y": null,
            "padding": null,
            "right": null,
            "top": null,
            "visibility": null,
            "width": null
          }
        },
        "06aeeae71a4d4fadaf93b4d708b3c13c": {
          "model_module": "@jupyter-widgets/controls",
          "model_name": "DescriptionStyleModel",
          "model_module_version": "1.5.0",
          "state": {
            "_model_module": "@jupyter-widgets/controls",
            "_model_module_version": "1.5.0",
            "_model_name": "DescriptionStyleModel",
            "_view_count": null,
            "_view_module": "@jupyter-widgets/base",
            "_view_module_version": "1.2.0",
            "_view_name": "StyleView",
            "description_width": ""
          }
        },
        "499f403dbbae4877a31beed98c92fbf7": {
          "model_module": "@jupyter-widgets/controls",
          "model_name": "HBoxModel",
          "model_module_version": "1.5.0",
          "state": {
            "_dom_classes": [],
            "_model_module": "@jupyter-widgets/controls",
            "_model_module_version": "1.5.0",
            "_model_name": "HBoxModel",
            "_view_count": null,
            "_view_module": "@jupyter-widgets/controls",
            "_view_module_version": "1.5.0",
            "_view_name": "HBoxView",
            "box_style": "",
            "children": [
              "IPY_MODEL_ff07834989ae4cb7a718ae8456663f3e",
              "IPY_MODEL_4df806e465754df6a03d34e716e61714",
              "IPY_MODEL_7777b61373ba44ac990367fa69e84399"
            ],
            "layout": "IPY_MODEL_4ee0611b0aa5468fbc9532fb15eb6808"
          }
        },
        "ff07834989ae4cb7a718ae8456663f3e": {
          "model_module": "@jupyter-widgets/controls",
          "model_name": "HTMLModel",
          "model_module_version": "1.5.0",
          "state": {
            "_dom_classes": [],
            "_model_module": "@jupyter-widgets/controls",
            "_model_module_version": "1.5.0",
            "_model_name": "HTMLModel",
            "_view_count": null,
            "_view_module": "@jupyter-widgets/controls",
            "_view_module_version": "1.5.0",
            "_view_name": "HTMLView",
            "description": "",
            "description_tooltip": null,
            "layout": "IPY_MODEL_be7d42280b844a36a0b62148ea23d8d4",
            "placeholder": "​",
            "style": "IPY_MODEL_2024f9880d9f44899b7bd2621f808f4f",
            "value": "vocab.json: 100%"
          }
        },
        "4df806e465754df6a03d34e716e61714": {
          "model_module": "@jupyter-widgets/controls",
          "model_name": "FloatProgressModel",
          "model_module_version": "1.5.0",
          "state": {
            "_dom_classes": [],
            "_model_module": "@jupyter-widgets/controls",
            "_model_module_version": "1.5.0",
            "_model_name": "FloatProgressModel",
            "_view_count": null,
            "_view_module": "@jupyter-widgets/controls",
            "_view_module_version": "1.5.0",
            "_view_name": "ProgressView",
            "bar_style": "success",
            "description": "",
            "description_tooltip": null,
            "layout": "IPY_MODEL_d05e709d09574c918c24c11eddc6c7b0",
            "max": 1042301,
            "min": 0,
            "orientation": "horizontal",
            "style": "IPY_MODEL_97ce59c86d8c443e90f05b8f42e1a5be",
            "value": 1042301
          }
        },
        "7777b61373ba44ac990367fa69e84399": {
          "model_module": "@jupyter-widgets/controls",
          "model_name": "HTMLModel",
          "model_module_version": "1.5.0",
          "state": {
            "_dom_classes": [],
            "_model_module": "@jupyter-widgets/controls",
            "_model_module_version": "1.5.0",
            "_model_name": "HTMLModel",
            "_view_count": null,
            "_view_module": "@jupyter-widgets/controls",
            "_view_module_version": "1.5.0",
            "_view_name": "HTMLView",
            "description": "",
            "description_tooltip": null,
            "layout": "IPY_MODEL_a5d5e0b0eeb84f9a9ebc5e7df7ca33be",
            "placeholder": "​",
            "style": "IPY_MODEL_56996e780d534357bec08455ab4fb0c5",
            "value": " 1.04M/1.04M [00:00&lt;00:00, 5.61MB/s]"
          }
        },
        "4ee0611b0aa5468fbc9532fb15eb6808": {
          "model_module": "@jupyter-widgets/base",
          "model_name": "LayoutModel",
          "model_module_version": "1.2.0",
          "state": {
            "_model_module": "@jupyter-widgets/base",
            "_model_module_version": "1.2.0",
            "_model_name": "LayoutModel",
            "_view_count": null,
            "_view_module": "@jupyter-widgets/base",
            "_view_module_version": "1.2.0",
            "_view_name": "LayoutView",
            "align_content": null,
            "align_items": null,
            "align_self": null,
            "border": null,
            "bottom": null,
            "display": null,
            "flex": null,
            "flex_flow": null,
            "grid_area": null,
            "grid_auto_columns": null,
            "grid_auto_flow": null,
            "grid_auto_rows": null,
            "grid_column": null,
            "grid_gap": null,
            "grid_row": null,
            "grid_template_areas": null,
            "grid_template_columns": null,
            "grid_template_rows": null,
            "height": null,
            "justify_content": null,
            "justify_items": null,
            "left": null,
            "margin": null,
            "max_height": null,
            "max_width": null,
            "min_height": null,
            "min_width": null,
            "object_fit": null,
            "object_position": null,
            "order": null,
            "overflow": null,
            "overflow_x": null,
            "overflow_y": null,
            "padding": null,
            "right": null,
            "top": null,
            "visibility": null,
            "width": null
          }
        },
        "be7d42280b844a36a0b62148ea23d8d4": {
          "model_module": "@jupyter-widgets/base",
          "model_name": "LayoutModel",
          "model_module_version": "1.2.0",
          "state": {
            "_model_module": "@jupyter-widgets/base",
            "_model_module_version": "1.2.0",
            "_model_name": "LayoutModel",
            "_view_count": null,
            "_view_module": "@jupyter-widgets/base",
            "_view_module_version": "1.2.0",
            "_view_name": "LayoutView",
            "align_content": null,
            "align_items": null,
            "align_self": null,
            "border": null,
            "bottom": null,
            "display": null,
            "flex": null,
            "flex_flow": null,
            "grid_area": null,
            "grid_auto_columns": null,
            "grid_auto_flow": null,
            "grid_auto_rows": null,
            "grid_column": null,
            "grid_gap": null,
            "grid_row": null,
            "grid_template_areas": null,
            "grid_template_columns": null,
            "grid_template_rows": null,
            "height": null,
            "justify_content": null,
            "justify_items": null,
            "left": null,
            "margin": null,
            "max_height": null,
            "max_width": null,
            "min_height": null,
            "min_width": null,
            "object_fit": null,
            "object_position": null,
            "order": null,
            "overflow": null,
            "overflow_x": null,
            "overflow_y": null,
            "padding": null,
            "right": null,
            "top": null,
            "visibility": null,
            "width": null
          }
        },
        "2024f9880d9f44899b7bd2621f808f4f": {
          "model_module": "@jupyter-widgets/controls",
          "model_name": "DescriptionStyleModel",
          "model_module_version": "1.5.0",
          "state": {
            "_model_module": "@jupyter-widgets/controls",
            "_model_module_version": "1.5.0",
            "_model_name": "DescriptionStyleModel",
            "_view_count": null,
            "_view_module": "@jupyter-widgets/base",
            "_view_module_version": "1.2.0",
            "_view_name": "StyleView",
            "description_width": ""
          }
        },
        "d05e709d09574c918c24c11eddc6c7b0": {
          "model_module": "@jupyter-widgets/base",
          "model_name": "LayoutModel",
          "model_module_version": "1.2.0",
          "state": {
            "_model_module": "@jupyter-widgets/base",
            "_model_module_version": "1.2.0",
            "_model_name": "LayoutModel",
            "_view_count": null,
            "_view_module": "@jupyter-widgets/base",
            "_view_module_version": "1.2.0",
            "_view_name": "LayoutView",
            "align_content": null,
            "align_items": null,
            "align_self": null,
            "border": null,
            "bottom": null,
            "display": null,
            "flex": null,
            "flex_flow": null,
            "grid_area": null,
            "grid_auto_columns": null,
            "grid_auto_flow": null,
            "grid_auto_rows": null,
            "grid_column": null,
            "grid_gap": null,
            "grid_row": null,
            "grid_template_areas": null,
            "grid_template_columns": null,
            "grid_template_rows": null,
            "height": null,
            "justify_content": null,
            "justify_items": null,
            "left": null,
            "margin": null,
            "max_height": null,
            "max_width": null,
            "min_height": null,
            "min_width": null,
            "object_fit": null,
            "object_position": null,
            "order": null,
            "overflow": null,
            "overflow_x": null,
            "overflow_y": null,
            "padding": null,
            "right": null,
            "top": null,
            "visibility": null,
            "width": null
          }
        },
        "97ce59c86d8c443e90f05b8f42e1a5be": {
          "model_module": "@jupyter-widgets/controls",
          "model_name": "ProgressStyleModel",
          "model_module_version": "1.5.0",
          "state": {
            "_model_module": "@jupyter-widgets/controls",
            "_model_module_version": "1.5.0",
            "_model_name": "ProgressStyleModel",
            "_view_count": null,
            "_view_module": "@jupyter-widgets/base",
            "_view_module_version": "1.2.0",
            "_view_name": "StyleView",
            "bar_color": null,
            "description_width": ""
          }
        },
        "a5d5e0b0eeb84f9a9ebc5e7df7ca33be": {
          "model_module": "@jupyter-widgets/base",
          "model_name": "LayoutModel",
          "model_module_version": "1.2.0",
          "state": {
            "_model_module": "@jupyter-widgets/base",
            "_model_module_version": "1.2.0",
            "_model_name": "LayoutModel",
            "_view_count": null,
            "_view_module": "@jupyter-widgets/base",
            "_view_module_version": "1.2.0",
            "_view_name": "LayoutView",
            "align_content": null,
            "align_items": null,
            "align_self": null,
            "border": null,
            "bottom": null,
            "display": null,
            "flex": null,
            "flex_flow": null,
            "grid_area": null,
            "grid_auto_columns": null,
            "grid_auto_flow": null,
            "grid_auto_rows": null,
            "grid_column": null,
            "grid_gap": null,
            "grid_row": null,
            "grid_template_areas": null,
            "grid_template_columns": null,
            "grid_template_rows": null,
            "height": null,
            "justify_content": null,
            "justify_items": null,
            "left": null,
            "margin": null,
            "max_height": null,
            "max_width": null,
            "min_height": null,
            "min_width": null,
            "object_fit": null,
            "object_position": null,
            "order": null,
            "overflow": null,
            "overflow_x": null,
            "overflow_y": null,
            "padding": null,
            "right": null,
            "top": null,
            "visibility": null,
            "width": null
          }
        },
        "56996e780d534357bec08455ab4fb0c5": {
          "model_module": "@jupyter-widgets/controls",
          "model_name": "DescriptionStyleModel",
          "model_module_version": "1.5.0",
          "state": {
            "_model_module": "@jupyter-widgets/controls",
            "_model_module_version": "1.5.0",
            "_model_name": "DescriptionStyleModel",
            "_view_count": null,
            "_view_module": "@jupyter-widgets/base",
            "_view_module_version": "1.2.0",
            "_view_name": "StyleView",
            "description_width": ""
          }
        },
        "25b586cc10474d3d9c65ed668daeaad8": {
          "model_module": "@jupyter-widgets/controls",
          "model_name": "HBoxModel",
          "model_module_version": "1.5.0",
          "state": {
            "_dom_classes": [],
            "_model_module": "@jupyter-widgets/controls",
            "_model_module_version": "1.5.0",
            "_model_name": "HBoxModel",
            "_view_count": null,
            "_view_module": "@jupyter-widgets/controls",
            "_view_module_version": "1.5.0",
            "_view_name": "HBoxView",
            "box_style": "",
            "children": [
              "IPY_MODEL_93584f75357844108d1e82cf97e5cb62",
              "IPY_MODEL_acd0143ba07b48e18f9a9a655da8b94a",
              "IPY_MODEL_66d10462912b41078882015b0bb6a85d"
            ],
            "layout": "IPY_MODEL_c6eeccfed5474bd19f4f8c016ed53bf3"
          }
        },
        "93584f75357844108d1e82cf97e5cb62": {
          "model_module": "@jupyter-widgets/controls",
          "model_name": "HTMLModel",
          "model_module_version": "1.5.0",
          "state": {
            "_dom_classes": [],
            "_model_module": "@jupyter-widgets/controls",
            "_model_module_version": "1.5.0",
            "_model_name": "HTMLModel",
            "_view_count": null,
            "_view_module": "@jupyter-widgets/controls",
            "_view_module_version": "1.5.0",
            "_view_name": "HTMLView",
            "description": "",
            "description_tooltip": null,
            "layout": "IPY_MODEL_5130e8a108a74296b433d707e4840846",
            "placeholder": "​",
            "style": "IPY_MODEL_c695cfa6163f4f268809f661c732913c",
            "value": "merges.txt: 100%"
          }
        },
        "acd0143ba07b48e18f9a9a655da8b94a": {
          "model_module": "@jupyter-widgets/controls",
          "model_name": "FloatProgressModel",
          "model_module_version": "1.5.0",
          "state": {
            "_dom_classes": [],
            "_model_module": "@jupyter-widgets/controls",
            "_model_module_version": "1.5.0",
            "_model_name": "FloatProgressModel",
            "_view_count": null,
            "_view_module": "@jupyter-widgets/controls",
            "_view_module_version": "1.5.0",
            "_view_name": "ProgressView",
            "bar_style": "success",
            "description": "",
            "description_tooltip": null,
            "layout": "IPY_MODEL_5c164abbe813472c8c3b197df017ca5f",
            "max": 456318,
            "min": 0,
            "orientation": "horizontal",
            "style": "IPY_MODEL_d9c4dada07b04510ab0839e769da32f4",
            "value": 456318
          }
        },
        "66d10462912b41078882015b0bb6a85d": {
          "model_module": "@jupyter-widgets/controls",
          "model_name": "HTMLModel",
          "model_module_version": "1.5.0",
          "state": {
            "_dom_classes": [],
            "_model_module": "@jupyter-widgets/controls",
            "_model_module_version": "1.5.0",
            "_model_name": "HTMLModel",
            "_view_count": null,
            "_view_module": "@jupyter-widgets/controls",
            "_view_module_version": "1.5.0",
            "_view_name": "HTMLView",
            "description": "",
            "description_tooltip": null,
            "layout": "IPY_MODEL_a939459d343c4b6db6961e40d0725033",
            "placeholder": "​",
            "style": "IPY_MODEL_0974854163c44de9993220beba888fb2",
            "value": " 456k/456k [00:00&lt;00:00, 2.33MB/s]"
          }
        },
        "c6eeccfed5474bd19f4f8c016ed53bf3": {
          "model_module": "@jupyter-widgets/base",
          "model_name": "LayoutModel",
          "model_module_version": "1.2.0",
          "state": {
            "_model_module": "@jupyter-widgets/base",
            "_model_module_version": "1.2.0",
            "_model_name": "LayoutModel",
            "_view_count": null,
            "_view_module": "@jupyter-widgets/base",
            "_view_module_version": "1.2.0",
            "_view_name": "LayoutView",
            "align_content": null,
            "align_items": null,
            "align_self": null,
            "border": null,
            "bottom": null,
            "display": null,
            "flex": null,
            "flex_flow": null,
            "grid_area": null,
            "grid_auto_columns": null,
            "grid_auto_flow": null,
            "grid_auto_rows": null,
            "grid_column": null,
            "grid_gap": null,
            "grid_row": null,
            "grid_template_areas": null,
            "grid_template_columns": null,
            "grid_template_rows": null,
            "height": null,
            "justify_content": null,
            "justify_items": null,
            "left": null,
            "margin": null,
            "max_height": null,
            "max_width": null,
            "min_height": null,
            "min_width": null,
            "object_fit": null,
            "object_position": null,
            "order": null,
            "overflow": null,
            "overflow_x": null,
            "overflow_y": null,
            "padding": null,
            "right": null,
            "top": null,
            "visibility": null,
            "width": null
          }
        },
        "5130e8a108a74296b433d707e4840846": {
          "model_module": "@jupyter-widgets/base",
          "model_name": "LayoutModel",
          "model_module_version": "1.2.0",
          "state": {
            "_model_module": "@jupyter-widgets/base",
            "_model_module_version": "1.2.0",
            "_model_name": "LayoutModel",
            "_view_count": null,
            "_view_module": "@jupyter-widgets/base",
            "_view_module_version": "1.2.0",
            "_view_name": "LayoutView",
            "align_content": null,
            "align_items": null,
            "align_self": null,
            "border": null,
            "bottom": null,
            "display": null,
            "flex": null,
            "flex_flow": null,
            "grid_area": null,
            "grid_auto_columns": null,
            "grid_auto_flow": null,
            "grid_auto_rows": null,
            "grid_column": null,
            "grid_gap": null,
            "grid_row": null,
            "grid_template_areas": null,
            "grid_template_columns": null,
            "grid_template_rows": null,
            "height": null,
            "justify_content": null,
            "justify_items": null,
            "left": null,
            "margin": null,
            "max_height": null,
            "max_width": null,
            "min_height": null,
            "min_width": null,
            "object_fit": null,
            "object_position": null,
            "order": null,
            "overflow": null,
            "overflow_x": null,
            "overflow_y": null,
            "padding": null,
            "right": null,
            "top": null,
            "visibility": null,
            "width": null
          }
        },
        "c695cfa6163f4f268809f661c732913c": {
          "model_module": "@jupyter-widgets/controls",
          "model_name": "DescriptionStyleModel",
          "model_module_version": "1.5.0",
          "state": {
            "_model_module": "@jupyter-widgets/controls",
            "_model_module_version": "1.5.0",
            "_model_name": "DescriptionStyleModel",
            "_view_count": null,
            "_view_module": "@jupyter-widgets/base",
            "_view_module_version": "1.2.0",
            "_view_name": "StyleView",
            "description_width": ""
          }
        },
        "5c164abbe813472c8c3b197df017ca5f": {
          "model_module": "@jupyter-widgets/base",
          "model_name": "LayoutModel",
          "model_module_version": "1.2.0",
          "state": {
            "_model_module": "@jupyter-widgets/base",
            "_model_module_version": "1.2.0",
            "_model_name": "LayoutModel",
            "_view_count": null,
            "_view_module": "@jupyter-widgets/base",
            "_view_module_version": "1.2.0",
            "_view_name": "LayoutView",
            "align_content": null,
            "align_items": null,
            "align_self": null,
            "border": null,
            "bottom": null,
            "display": null,
            "flex": null,
            "flex_flow": null,
            "grid_area": null,
            "grid_auto_columns": null,
            "grid_auto_flow": null,
            "grid_auto_rows": null,
            "grid_column": null,
            "grid_gap": null,
            "grid_row": null,
            "grid_template_areas": null,
            "grid_template_columns": null,
            "grid_template_rows": null,
            "height": null,
            "justify_content": null,
            "justify_items": null,
            "left": null,
            "margin": null,
            "max_height": null,
            "max_width": null,
            "min_height": null,
            "min_width": null,
            "object_fit": null,
            "object_position": null,
            "order": null,
            "overflow": null,
            "overflow_x": null,
            "overflow_y": null,
            "padding": null,
            "right": null,
            "top": null,
            "visibility": null,
            "width": null
          }
        },
        "d9c4dada07b04510ab0839e769da32f4": {
          "model_module": "@jupyter-widgets/controls",
          "model_name": "ProgressStyleModel",
          "model_module_version": "1.5.0",
          "state": {
            "_model_module": "@jupyter-widgets/controls",
            "_model_module_version": "1.5.0",
            "_model_name": "ProgressStyleModel",
            "_view_count": null,
            "_view_module": "@jupyter-widgets/base",
            "_view_module_version": "1.2.0",
            "_view_name": "StyleView",
            "bar_color": null,
            "description_width": ""
          }
        },
        "a939459d343c4b6db6961e40d0725033": {
          "model_module": "@jupyter-widgets/base",
          "model_name": "LayoutModel",
          "model_module_version": "1.2.0",
          "state": {
            "_model_module": "@jupyter-widgets/base",
            "_model_module_version": "1.2.0",
            "_model_name": "LayoutModel",
            "_view_count": null,
            "_view_module": "@jupyter-widgets/base",
            "_view_module_version": "1.2.0",
            "_view_name": "LayoutView",
            "align_content": null,
            "align_items": null,
            "align_self": null,
            "border": null,
            "bottom": null,
            "display": null,
            "flex": null,
            "flex_flow": null,
            "grid_area": null,
            "grid_auto_columns": null,
            "grid_auto_flow": null,
            "grid_auto_rows": null,
            "grid_column": null,
            "grid_gap": null,
            "grid_row": null,
            "grid_template_areas": null,
            "grid_template_columns": null,
            "grid_template_rows": null,
            "height": null,
            "justify_content": null,
            "justify_items": null,
            "left": null,
            "margin": null,
            "max_height": null,
            "max_width": null,
            "min_height": null,
            "min_width": null,
            "object_fit": null,
            "object_position": null,
            "order": null,
            "overflow": null,
            "overflow_x": null,
            "overflow_y": null,
            "padding": null,
            "right": null,
            "top": null,
            "visibility": null,
            "width": null
          }
        },
        "0974854163c44de9993220beba888fb2": {
          "model_module": "@jupyter-widgets/controls",
          "model_name": "DescriptionStyleModel",
          "model_module_version": "1.5.0",
          "state": {
            "_model_module": "@jupyter-widgets/controls",
            "_model_module_version": "1.5.0",
            "_model_name": "DescriptionStyleModel",
            "_view_count": null,
            "_view_module": "@jupyter-widgets/base",
            "_view_module_version": "1.2.0",
            "_view_name": "StyleView",
            "description_width": ""
          }
        },
        "4410458a2f264f3b928bb02cb1e6c704": {
          "model_module": "@jupyter-widgets/controls",
          "model_name": "HBoxModel",
          "model_module_version": "1.5.0",
          "state": {
            "_dom_classes": [],
            "_model_module": "@jupyter-widgets/controls",
            "_model_module_version": "1.5.0",
            "_model_name": "HBoxModel",
            "_view_count": null,
            "_view_module": "@jupyter-widgets/controls",
            "_view_module_version": "1.5.0",
            "_view_name": "HBoxView",
            "box_style": "",
            "children": [
              "IPY_MODEL_b7cf2fafaa994beba46c789a3b271dd3",
              "IPY_MODEL_8ee9e74551294b4dbeaa6bbab059df65",
              "IPY_MODEL_85190fb516f24764a6cab0b3e303db9d"
            ],
            "layout": "IPY_MODEL_c9ad0afef40a4454b54ee7531473c755"
          }
        },
        "b7cf2fafaa994beba46c789a3b271dd3": {
          "model_module": "@jupyter-widgets/controls",
          "model_name": "HTMLModel",
          "model_module_version": "1.5.0",
          "state": {
            "_dom_classes": [],
            "_model_module": "@jupyter-widgets/controls",
            "_model_module_version": "1.5.0",
            "_model_name": "HTMLModel",
            "_view_count": null,
            "_view_module": "@jupyter-widgets/controls",
            "_view_module_version": "1.5.0",
            "_view_name": "HTMLView",
            "description": "",
            "description_tooltip": null,
            "layout": "IPY_MODEL_c8caedc3143f4f739752a59e857eb3dc",
            "placeholder": "​",
            "style": "IPY_MODEL_4228cbd443db4120b672b468e23593d3",
            "value": "tokenizer.json: 100%"
          }
        },
        "8ee9e74551294b4dbeaa6bbab059df65": {
          "model_module": "@jupyter-widgets/controls",
          "model_name": "FloatProgressModel",
          "model_module_version": "1.5.0",
          "state": {
            "_dom_classes": [],
            "_model_module": "@jupyter-widgets/controls",
            "_model_module_version": "1.5.0",
            "_model_name": "FloatProgressModel",
            "_view_count": null,
            "_view_module": "@jupyter-widgets/controls",
            "_view_module_version": "1.5.0",
            "_view_name": "ProgressView",
            "bar_style": "success",
            "description": "",
            "description_tooltip": null,
            "layout": "IPY_MODEL_fc92fc479d824019880f1105c57fab10",
            "max": 1355256,
            "min": 0,
            "orientation": "horizontal",
            "style": "IPY_MODEL_a99702afffdb48e891643d6caddf1b31",
            "value": 1355256
          }
        },
        "85190fb516f24764a6cab0b3e303db9d": {
          "model_module": "@jupyter-widgets/controls",
          "model_name": "HTMLModel",
          "model_module_version": "1.5.0",
          "state": {
            "_dom_classes": [],
            "_model_module": "@jupyter-widgets/controls",
            "_model_module_version": "1.5.0",
            "_model_name": "HTMLModel",
            "_view_count": null,
            "_view_module": "@jupyter-widgets/controls",
            "_view_module_version": "1.5.0",
            "_view_name": "HTMLView",
            "description": "",
            "description_tooltip": null,
            "layout": "IPY_MODEL_a67931a97772456db86af4fd68c2bf54",
            "placeholder": "​",
            "style": "IPY_MODEL_9537e7ce63e74a78a86a471fafa17c92",
            "value": " 1.36M/1.36M [00:00&lt;00:00, 14.3MB/s]"
          }
        },
        "c9ad0afef40a4454b54ee7531473c755": {
          "model_module": "@jupyter-widgets/base",
          "model_name": "LayoutModel",
          "model_module_version": "1.2.0",
          "state": {
            "_model_module": "@jupyter-widgets/base",
            "_model_module_version": "1.2.0",
            "_model_name": "LayoutModel",
            "_view_count": null,
            "_view_module": "@jupyter-widgets/base",
            "_view_module_version": "1.2.0",
            "_view_name": "LayoutView",
            "align_content": null,
            "align_items": null,
            "align_self": null,
            "border": null,
            "bottom": null,
            "display": null,
            "flex": null,
            "flex_flow": null,
            "grid_area": null,
            "grid_auto_columns": null,
            "grid_auto_flow": null,
            "grid_auto_rows": null,
            "grid_column": null,
            "grid_gap": null,
            "grid_row": null,
            "grid_template_areas": null,
            "grid_template_columns": null,
            "grid_template_rows": null,
            "height": null,
            "justify_content": null,
            "justify_items": null,
            "left": null,
            "margin": null,
            "max_height": null,
            "max_width": null,
            "min_height": null,
            "min_width": null,
            "object_fit": null,
            "object_position": null,
            "order": null,
            "overflow": null,
            "overflow_x": null,
            "overflow_y": null,
            "padding": null,
            "right": null,
            "top": null,
            "visibility": null,
            "width": null
          }
        },
        "c8caedc3143f4f739752a59e857eb3dc": {
          "model_module": "@jupyter-widgets/base",
          "model_name": "LayoutModel",
          "model_module_version": "1.2.0",
          "state": {
            "_model_module": "@jupyter-widgets/base",
            "_model_module_version": "1.2.0",
            "_model_name": "LayoutModel",
            "_view_count": null,
            "_view_module": "@jupyter-widgets/base",
            "_view_module_version": "1.2.0",
            "_view_name": "LayoutView",
            "align_content": null,
            "align_items": null,
            "align_self": null,
            "border": null,
            "bottom": null,
            "display": null,
            "flex": null,
            "flex_flow": null,
            "grid_area": null,
            "grid_auto_columns": null,
            "grid_auto_flow": null,
            "grid_auto_rows": null,
            "grid_column": null,
            "grid_gap": null,
            "grid_row": null,
            "grid_template_areas": null,
            "grid_template_columns": null,
            "grid_template_rows": null,
            "height": null,
            "justify_content": null,
            "justify_items": null,
            "left": null,
            "margin": null,
            "max_height": null,
            "max_width": null,
            "min_height": null,
            "min_width": null,
            "object_fit": null,
            "object_position": null,
            "order": null,
            "overflow": null,
            "overflow_x": null,
            "overflow_y": null,
            "padding": null,
            "right": null,
            "top": null,
            "visibility": null,
            "width": null
          }
        },
        "4228cbd443db4120b672b468e23593d3": {
          "model_module": "@jupyter-widgets/controls",
          "model_name": "DescriptionStyleModel",
          "model_module_version": "1.5.0",
          "state": {
            "_model_module": "@jupyter-widgets/controls",
            "_model_module_version": "1.5.0",
            "_model_name": "DescriptionStyleModel",
            "_view_count": null,
            "_view_module": "@jupyter-widgets/base",
            "_view_module_version": "1.2.0",
            "_view_name": "StyleView",
            "description_width": ""
          }
        },
        "fc92fc479d824019880f1105c57fab10": {
          "model_module": "@jupyter-widgets/base",
          "model_name": "LayoutModel",
          "model_module_version": "1.2.0",
          "state": {
            "_model_module": "@jupyter-widgets/base",
            "_model_module_version": "1.2.0",
            "_model_name": "LayoutModel",
            "_view_count": null,
            "_view_module": "@jupyter-widgets/base",
            "_view_module_version": "1.2.0",
            "_view_name": "LayoutView",
            "align_content": null,
            "align_items": null,
            "align_self": null,
            "border": null,
            "bottom": null,
            "display": null,
            "flex": null,
            "flex_flow": null,
            "grid_area": null,
            "grid_auto_columns": null,
            "grid_auto_flow": null,
            "grid_auto_rows": null,
            "grid_column": null,
            "grid_gap": null,
            "grid_row": null,
            "grid_template_areas": null,
            "grid_template_columns": null,
            "grid_template_rows": null,
            "height": null,
            "justify_content": null,
            "justify_items": null,
            "left": null,
            "margin": null,
            "max_height": null,
            "max_width": null,
            "min_height": null,
            "min_width": null,
            "object_fit": null,
            "object_position": null,
            "order": null,
            "overflow": null,
            "overflow_x": null,
            "overflow_y": null,
            "padding": null,
            "right": null,
            "top": null,
            "visibility": null,
            "width": null
          }
        },
        "a99702afffdb48e891643d6caddf1b31": {
          "model_module": "@jupyter-widgets/controls",
          "model_name": "ProgressStyleModel",
          "model_module_version": "1.5.0",
          "state": {
            "_model_module": "@jupyter-widgets/controls",
            "_model_module_version": "1.5.0",
            "_model_name": "ProgressStyleModel",
            "_view_count": null,
            "_view_module": "@jupyter-widgets/base",
            "_view_module_version": "1.2.0",
            "_view_name": "StyleView",
            "bar_color": null,
            "description_width": ""
          }
        },
        "a67931a97772456db86af4fd68c2bf54": {
          "model_module": "@jupyter-widgets/base",
          "model_name": "LayoutModel",
          "model_module_version": "1.2.0",
          "state": {
            "_model_module": "@jupyter-widgets/base",
            "_model_module_version": "1.2.0",
            "_model_name": "LayoutModel",
            "_view_count": null,
            "_view_module": "@jupyter-widgets/base",
            "_view_module_version": "1.2.0",
            "_view_name": "LayoutView",
            "align_content": null,
            "align_items": null,
            "align_self": null,
            "border": null,
            "bottom": null,
            "display": null,
            "flex": null,
            "flex_flow": null,
            "grid_area": null,
            "grid_auto_columns": null,
            "grid_auto_flow": null,
            "grid_auto_rows": null,
            "grid_column": null,
            "grid_gap": null,
            "grid_row": null,
            "grid_template_areas": null,
            "grid_template_columns": null,
            "grid_template_rows": null,
            "height": null,
            "justify_content": null,
            "justify_items": null,
            "left": null,
            "margin": null,
            "max_height": null,
            "max_width": null,
            "min_height": null,
            "min_width": null,
            "object_fit": null,
            "object_position": null,
            "order": null,
            "overflow": null,
            "overflow_x": null,
            "overflow_y": null,
            "padding": null,
            "right": null,
            "top": null,
            "visibility": null,
            "width": null
          }
        },
        "9537e7ce63e74a78a86a471fafa17c92": {
          "model_module": "@jupyter-widgets/controls",
          "model_name": "DescriptionStyleModel",
          "model_module_version": "1.5.0",
          "state": {
            "_model_module": "@jupyter-widgets/controls",
            "_model_module_version": "1.5.0",
            "_model_name": "DescriptionStyleModel",
            "_view_count": null,
            "_view_module": "@jupyter-widgets/base",
            "_view_module_version": "1.2.0",
            "_view_name": "StyleView",
            "description_width": ""
          }
        },
        "b661b5f2240e45389fe7d0c317a06a2e": {
          "model_module": "@jupyter-widgets/controls",
          "model_name": "HBoxModel",
          "model_module_version": "1.5.0",
          "state": {
            "_dom_classes": [],
            "_model_module": "@jupyter-widgets/controls",
            "_model_module_version": "1.5.0",
            "_model_name": "HBoxModel",
            "_view_count": null,
            "_view_module": "@jupyter-widgets/controls",
            "_view_module_version": "1.5.0",
            "_view_name": "HBoxView",
            "box_style": "",
            "children": [
              "IPY_MODEL_a9fb5580e4ec4eac8148136264f46ad4",
              "IPY_MODEL_c3996aa1b6434b0bbcb8668a0dc61db3",
              "IPY_MODEL_5f75af14c3f240b09cfcac80b77df09e"
            ],
            "layout": "IPY_MODEL_b0672782a6d343be80d2a84d3799ce71"
          }
        },
        "a9fb5580e4ec4eac8148136264f46ad4": {
          "model_module": "@jupyter-widgets/controls",
          "model_name": "HTMLModel",
          "model_module_version": "1.5.0",
          "state": {
            "_dom_classes": [],
            "_model_module": "@jupyter-widgets/controls",
            "_model_module_version": "1.5.0",
            "_model_name": "HTMLModel",
            "_view_count": null,
            "_view_module": "@jupyter-widgets/controls",
            "_view_module_version": "1.5.0",
            "_view_name": "HTMLView",
            "description": "",
            "description_tooltip": null,
            "layout": "IPY_MODEL_9582d772dea344d6914eb76f0b190aa7",
            "placeholder": "​",
            "style": "IPY_MODEL_491d8e18933949a78d5918fab97eb5d5",
            "value": "100%"
          }
        },
        "c3996aa1b6434b0bbcb8668a0dc61db3": {
          "model_module": "@jupyter-widgets/controls",
          "model_name": "FloatProgressModel",
          "model_module_version": "1.5.0",
          "state": {
            "_dom_classes": [],
            "_model_module": "@jupyter-widgets/controls",
            "_model_module_version": "1.5.0",
            "_model_name": "FloatProgressModel",
            "_view_count": null,
            "_view_module": "@jupyter-widgets/controls",
            "_view_module_version": "1.5.0",
            "_view_name": "ProgressView",
            "bar_style": "success",
            "description": "",
            "description_tooltip": null,
            "layout": "IPY_MODEL_d9cad3b2586845969769eb8a2667b362",
            "max": 15,
            "min": 0,
            "orientation": "horizontal",
            "style": "IPY_MODEL_118f0133660b4db9b7671dc12853a5c0",
            "value": 15
          }
        },
        "5f75af14c3f240b09cfcac80b77df09e": {
          "model_module": "@jupyter-widgets/controls",
          "model_name": "HTMLModel",
          "model_module_version": "1.5.0",
          "state": {
            "_dom_classes": [],
            "_model_module": "@jupyter-widgets/controls",
            "_model_module_version": "1.5.0",
            "_model_name": "HTMLModel",
            "_view_count": null,
            "_view_module": "@jupyter-widgets/controls",
            "_view_module_version": "1.5.0",
            "_view_name": "HTMLView",
            "description": "",
            "description_tooltip": null,
            "layout": "IPY_MODEL_c98bc3a951d040f5ae8f2cbda1ab8375",
            "placeholder": "​",
            "style": "IPY_MODEL_ca53a22084684d3193713973ad57080e",
            "value": " 15/15 [02:41&lt;00:00, 10.53s/it]"
          }
        },
        "b0672782a6d343be80d2a84d3799ce71": {
          "model_module": "@jupyter-widgets/base",
          "model_name": "LayoutModel",
          "model_module_version": "1.2.0",
          "state": {
            "_model_module": "@jupyter-widgets/base",
            "_model_module_version": "1.2.0",
            "_model_name": "LayoutModel",
            "_view_count": null,
            "_view_module": "@jupyter-widgets/base",
            "_view_module_version": "1.2.0",
            "_view_name": "LayoutView",
            "align_content": null,
            "align_items": null,
            "align_self": null,
            "border": null,
            "bottom": null,
            "display": null,
            "flex": null,
            "flex_flow": null,
            "grid_area": null,
            "grid_auto_columns": null,
            "grid_auto_flow": null,
            "grid_auto_rows": null,
            "grid_column": null,
            "grid_gap": null,
            "grid_row": null,
            "grid_template_areas": null,
            "grid_template_columns": null,
            "grid_template_rows": null,
            "height": null,
            "justify_content": null,
            "justify_items": null,
            "left": null,
            "margin": null,
            "max_height": null,
            "max_width": null,
            "min_height": null,
            "min_width": null,
            "object_fit": null,
            "object_position": null,
            "order": null,
            "overflow": null,
            "overflow_x": null,
            "overflow_y": null,
            "padding": null,
            "right": null,
            "top": null,
            "visibility": null,
            "width": null
          }
        },
        "9582d772dea344d6914eb76f0b190aa7": {
          "model_module": "@jupyter-widgets/base",
          "model_name": "LayoutModel",
          "model_module_version": "1.2.0",
          "state": {
            "_model_module": "@jupyter-widgets/base",
            "_model_module_version": "1.2.0",
            "_model_name": "LayoutModel",
            "_view_count": null,
            "_view_module": "@jupyter-widgets/base",
            "_view_module_version": "1.2.0",
            "_view_name": "LayoutView",
            "align_content": null,
            "align_items": null,
            "align_self": null,
            "border": null,
            "bottom": null,
            "display": null,
            "flex": null,
            "flex_flow": null,
            "grid_area": null,
            "grid_auto_columns": null,
            "grid_auto_flow": null,
            "grid_auto_rows": null,
            "grid_column": null,
            "grid_gap": null,
            "grid_row": null,
            "grid_template_areas": null,
            "grid_template_columns": null,
            "grid_template_rows": null,
            "height": null,
            "justify_content": null,
            "justify_items": null,
            "left": null,
            "margin": null,
            "max_height": null,
            "max_width": null,
            "min_height": null,
            "min_width": null,
            "object_fit": null,
            "object_position": null,
            "order": null,
            "overflow": null,
            "overflow_x": null,
            "overflow_y": null,
            "padding": null,
            "right": null,
            "top": null,
            "visibility": null,
            "width": null
          }
        },
        "491d8e18933949a78d5918fab97eb5d5": {
          "model_module": "@jupyter-widgets/controls",
          "model_name": "DescriptionStyleModel",
          "model_module_version": "1.5.0",
          "state": {
            "_model_module": "@jupyter-widgets/controls",
            "_model_module_version": "1.5.0",
            "_model_name": "DescriptionStyleModel",
            "_view_count": null,
            "_view_module": "@jupyter-widgets/base",
            "_view_module_version": "1.2.0",
            "_view_name": "StyleView",
            "description_width": ""
          }
        },
        "d9cad3b2586845969769eb8a2667b362": {
          "model_module": "@jupyter-widgets/base",
          "model_name": "LayoutModel",
          "model_module_version": "1.2.0",
          "state": {
            "_model_module": "@jupyter-widgets/base",
            "_model_module_version": "1.2.0",
            "_model_name": "LayoutModel",
            "_view_count": null,
            "_view_module": "@jupyter-widgets/base",
            "_view_module_version": "1.2.0",
            "_view_name": "LayoutView",
            "align_content": null,
            "align_items": null,
            "align_self": null,
            "border": null,
            "bottom": null,
            "display": null,
            "flex": null,
            "flex_flow": null,
            "grid_area": null,
            "grid_auto_columns": null,
            "grid_auto_flow": null,
            "grid_auto_rows": null,
            "grid_column": null,
            "grid_gap": null,
            "grid_row": null,
            "grid_template_areas": null,
            "grid_template_columns": null,
            "grid_template_rows": null,
            "height": null,
            "justify_content": null,
            "justify_items": null,
            "left": null,
            "margin": null,
            "max_height": null,
            "max_width": null,
            "min_height": null,
            "min_width": null,
            "object_fit": null,
            "object_position": null,
            "order": null,
            "overflow": null,
            "overflow_x": null,
            "overflow_y": null,
            "padding": null,
            "right": null,
            "top": null,
            "visibility": null,
            "width": null
          }
        },
        "118f0133660b4db9b7671dc12853a5c0": {
          "model_module": "@jupyter-widgets/controls",
          "model_name": "ProgressStyleModel",
          "model_module_version": "1.5.0",
          "state": {
            "_model_module": "@jupyter-widgets/controls",
            "_model_module_version": "1.5.0",
            "_model_name": "ProgressStyleModel",
            "_view_count": null,
            "_view_module": "@jupyter-widgets/base",
            "_view_module_version": "1.2.0",
            "_view_name": "StyleView",
            "bar_color": null,
            "description_width": ""
          }
        },
        "c98bc3a951d040f5ae8f2cbda1ab8375": {
          "model_module": "@jupyter-widgets/base",
          "model_name": "LayoutModel",
          "model_module_version": "1.2.0",
          "state": {
            "_model_module": "@jupyter-widgets/base",
            "_model_module_version": "1.2.0",
            "_model_name": "LayoutModel",
            "_view_count": null,
            "_view_module": "@jupyter-widgets/base",
            "_view_module_version": "1.2.0",
            "_view_name": "LayoutView",
            "align_content": null,
            "align_items": null,
            "align_self": null,
            "border": null,
            "bottom": null,
            "display": null,
            "flex": null,
            "flex_flow": null,
            "grid_area": null,
            "grid_auto_columns": null,
            "grid_auto_flow": null,
            "grid_auto_rows": null,
            "grid_column": null,
            "grid_gap": null,
            "grid_row": null,
            "grid_template_areas": null,
            "grid_template_columns": null,
            "grid_template_rows": null,
            "height": null,
            "justify_content": null,
            "justify_items": null,
            "left": null,
            "margin": null,
            "max_height": null,
            "max_width": null,
            "min_height": null,
            "min_width": null,
            "object_fit": null,
            "object_position": null,
            "order": null,
            "overflow": null,
            "overflow_x": null,
            "overflow_y": null,
            "padding": null,
            "right": null,
            "top": null,
            "visibility": null,
            "width": null
          }
        },
        "ca53a22084684d3193713973ad57080e": {
          "model_module": "@jupyter-widgets/controls",
          "model_name": "DescriptionStyleModel",
          "model_module_version": "1.5.0",
          "state": {
            "_model_module": "@jupyter-widgets/controls",
            "_model_module_version": "1.5.0",
            "_model_name": "DescriptionStyleModel",
            "_view_count": null,
            "_view_module": "@jupyter-widgets/base",
            "_view_module_version": "1.2.0",
            "_view_name": "StyleView",
            "description_width": ""
          }
        }
      }
    },
    "accelerator": "GPU",
    "kaggle": {
      "accelerator": "nvidiaTeslaT4",
      "dataSources": [],
      "dockerImageVersionId": 30747,
      "isInternetEnabled": true,
      "language": "python",
      "sourceType": "notebook",
      "isGpuEnabled": true
    }
  },
  "nbformat_minor": 0,
  "nbformat": 4,
  "cells": [
    {
      "cell_type": "markdown",
      "source": [
        "# Let's Become **Shakspear**\n",
        "\n",
        "![shakspear.jpg](data:image/jpeg;base64,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)"
      ],
      "metadata": {
        "id": "uf2PAwmKPpJ3"
      }
    },
    {
      "cell_type": "code",
      "source": [
        "!pip install transformers"
      ],
      "metadata": {
        "colab": {
          "base_uri": "https://localhost:8080/"
        },
        "id": "Y4srOnSS0FrS",
        "outputId": "60fe86bb-d3fc-49e0-cd6d-e18f5507ae44",
        "execution": {
          "iopub.status.busy": "2024-08-11T06:53:17.682352Z",
          "iopub.execute_input": "2024-08-11T06:53:17.682741Z",
          "iopub.status.idle": "2024-08-11T06:53:33.481773Z",
          "shell.execute_reply.started": "2024-08-11T06:53:17.682708Z",
          "shell.execute_reply": "2024-08-11T06:53:33.480440Z"
        },
        "trusted": true
      },
      "execution_count": 1,
      "outputs": [
        {
          "output_type": "stream",
          "name": "stdout",
          "text": [
            "Requirement already satisfied: transformers in /usr/local/lib/python3.10/dist-packages (4.42.4)\n",
            "Requirement already satisfied: filelock in /usr/local/lib/python3.10/dist-packages (from transformers) (3.15.4)\n",
            "Requirement already satisfied: huggingface-hub<1.0,>=0.23.2 in /usr/local/lib/python3.10/dist-packages (from transformers) (0.23.5)\n",
            "Requirement already satisfied: numpy<2.0,>=1.17 in /usr/local/lib/python3.10/dist-packages (from transformers) (1.26.4)\n",
            "Requirement already satisfied: packaging>=20.0 in /usr/local/lib/python3.10/dist-packages (from transformers) (24.1)\n",
            "Requirement already satisfied: pyyaml>=5.1 in /usr/local/lib/python3.10/dist-packages (from transformers) (6.0.2)\n",
            "Requirement already satisfied: regex!=2019.12.17 in /usr/local/lib/python3.10/dist-packages (from transformers) (2024.5.15)\n",
            "Requirement already satisfied: requests in /usr/local/lib/python3.10/dist-packages (from transformers) (2.32.3)\n",
            "Requirement already satisfied: safetensors>=0.4.1 in /usr/local/lib/python3.10/dist-packages (from transformers) (0.4.4)\n",
            "Requirement already satisfied: tokenizers<0.20,>=0.19 in /usr/local/lib/python3.10/dist-packages (from transformers) (0.19.1)\n",
            "Requirement already satisfied: tqdm>=4.27 in /usr/local/lib/python3.10/dist-packages (from transformers) (4.66.5)\n",
            "Requirement already satisfied: fsspec>=2023.5.0 in /usr/local/lib/python3.10/dist-packages (from huggingface-hub<1.0,>=0.23.2->transformers) (2024.6.1)\n",
            "Requirement already satisfied: typing-extensions>=3.7.4.3 in /usr/local/lib/python3.10/dist-packages (from huggingface-hub<1.0,>=0.23.2->transformers) (4.12.2)\n",
            "Requirement already satisfied: charset-normalizer<4,>=2 in /usr/local/lib/python3.10/dist-packages (from requests->transformers) (3.3.2)\n",
            "Requirement already satisfied: idna<4,>=2.5 in /usr/local/lib/python3.10/dist-packages (from requests->transformers) (3.7)\n",
            "Requirement already satisfied: urllib3<3,>=1.21.1 in /usr/local/lib/python3.10/dist-packages (from requests->transformers) (2.0.7)\n",
            "Requirement already satisfied: certifi>=2017.4.17 in /usr/local/lib/python3.10/dist-packages (from requests->transformers) (2024.7.4)\n"
          ]
        }
      ]
    },
    {
      "cell_type": "code",
      "source": [
        "import torch\n",
        "import math\n",
        "import numpy as np\n",
        "import torch.nn as nn\n",
        "import torch.nn.functional as F"
      ],
      "metadata": {
        "id": "E6pM0p8G0Ly2",
        "execution": {
          "iopub.status.busy": "2024-08-11T06:53:33.484176Z",
          "iopub.execute_input": "2024-08-11T06:53:33.484574Z",
          "iopub.status.idle": "2024-08-11T06:53:36.888035Z",
          "shell.execute_reply.started": "2024-08-11T06:53:33.484538Z",
          "shell.execute_reply": "2024-08-11T06:53:36.887085Z"
        },
        "trusted": true
      },
      "execution_count": 2,
      "outputs": []
    },
    {
      "cell_type": "code",
      "source": [
        "device = \"Cuda\" if torch.cuda.is_available() else \"cpu\"\n",
        "device"
      ],
      "metadata": {
        "colab": {
          "base_uri": "https://localhost:8080/",
          "height": 36
        },
        "id": "j2Wravns0TC1",
        "outputId": "ec903e5e-9a23-4beb-b674-5a3f3ee508af",
        "execution": {
          "iopub.status.busy": "2024-08-11T06:53:36.889279Z",
          "iopub.execute_input": "2024-08-11T06:53:36.889702Z",
          "iopub.status.idle": "2024-08-11T06:53:36.898487Z",
          "shell.execute_reply.started": "2024-08-11T06:53:36.889673Z",
          "shell.execute_reply": "2024-08-11T06:53:36.897355Z"
        },
        "trusted": true
      },
      "execution_count": 3,
      "outputs": [
        {
          "output_type": "execute_result",
          "data": {
            "text/plain": [
              "'Cuda'"
            ],
            "application/vnd.google.colaboratory.intrinsic+json": {
              "type": "string"
            }
          },
          "metadata": {},
          "execution_count": 3
        }
      ]
    },
    {
      "cell_type": "markdown",
      "source": [
        "# 1. Get the data"
      ],
      "metadata": {
        "id": "ZdHOPFoK4QpN"
      }
    },
    {
      "cell_type": "code",
      "source": [
        "# We always start with a dataset to train on. Let's download the tiny shakespeare dataset\n",
        "!wget https://raw.githubusercontent.com/karpathy/char-rnn/master/data/tinyshakespeare/input.txt"
      ],
      "metadata": {
        "colab": {
          "base_uri": "https://localhost:8080/"
        },
        "id": "39-oSp4e4UDf",
        "outputId": "81cf2c85-7b9d-42f1-a786-9dfd7eb4c0a8",
        "execution": {
          "iopub.status.busy": "2024-08-11T06:53:36.901780Z",
          "iopub.execute_input": "2024-08-11T06:53:36.902194Z",
          "iopub.status.idle": "2024-08-11T06:53:38.794051Z",
          "shell.execute_reply.started": "2024-08-11T06:53:36.902164Z",
          "shell.execute_reply": "2024-08-11T06:53:38.792744Z"
        },
        "trusted": true
      },
      "execution_count": 4,
      "outputs": [
        {
          "output_type": "stream",
          "name": "stdout",
          "text": [
            "--2024-08-11 06:57:04--  https://raw.githubusercontent.com/karpathy/char-rnn/master/data/tinyshakespeare/input.txt\n",
            "Resolving raw.githubusercontent.com (raw.githubusercontent.com)... 185.199.108.133, 185.199.109.133, 185.199.110.133, ...\n",
            "Connecting to raw.githubusercontent.com (raw.githubusercontent.com)|185.199.108.133|:443... connected.\n",
            "HTTP request sent, awaiting response... 200 OK\n",
            "Length: 1115394 (1.1M) [text/plain]\n",
            "Saving to: ‘input.txt’\n",
            "\n",
            "input.txt           100%[===================>]   1.06M  --.-KB/s    in 0.04s   \n",
            "\n",
            "2024-08-11 06:57:04 (29.1 MB/s) - ‘input.txt’ saved [1115394/1115394]\n",
            "\n"
          ]
        }
      ]
    },
    {
      "cell_type": "code",
      "source": [
        "# read it in to inspect it\n",
        "with open('input.txt', 'r', encoding='utf-8') as f:\n",
        "    text = f.read()"
      ],
      "metadata": {
        "id": "SLYRZ1RZ4Y0x",
        "execution": {
          "iopub.status.busy": "2024-08-11T06:53:38.795687Z",
          "iopub.execute_input": "2024-08-11T06:53:38.796042Z",
          "iopub.status.idle": "2024-08-11T06:53:38.805508Z",
          "shell.execute_reply.started": "2024-08-11T06:53:38.795997Z",
          "shell.execute_reply": "2024-08-11T06:53:38.804339Z"
        },
        "trusted": true
      },
      "execution_count": 5,
      "outputs": []
    },
    {
      "cell_type": "code",
      "source": [
        "print(\"length of dataset in characters: \", len(text))"
      ],
      "metadata": {
        "colab": {
          "base_uri": "https://localhost:8080/"
        },
        "id": "6ROLKeoH4aq1",
        "outputId": "4b81d19f-8551-4818-80d0-2231bca76bba",
        "execution": {
          "iopub.status.busy": "2024-08-11T06:53:38.807576Z",
          "iopub.execute_input": "2024-08-11T06:53:38.808017Z",
          "iopub.status.idle": "2024-08-11T06:53:38.817107Z",
          "shell.execute_reply.started": "2024-08-11T06:53:38.807979Z",
          "shell.execute_reply": "2024-08-11T06:53:38.815850Z"
        },
        "trusted": true
      },
      "execution_count": 6,
      "outputs": [
        {
          "output_type": "stream",
          "name": "stdout",
          "text": [
            "length of dataset in characters:  1115394\n"
          ]
        }
      ]
    },
    {
      "cell_type": "code",
      "source": [
        "# let's look at the first 1000 characters\n",
        "print(text[:1000])"
      ],
      "metadata": {
        "colab": {
          "base_uri": "https://localhost:8080/"
        },
        "id": "Q1hl_Rza4frl",
        "outputId": "564bf5fb-4eca-4767-a9ed-ec2ba748016c",
        "execution": {
          "iopub.status.busy": "2024-08-11T06:53:38.818641Z",
          "iopub.execute_input": "2024-08-11T06:53:38.819085Z",
          "iopub.status.idle": "2024-08-11T06:53:38.830370Z",
          "shell.execute_reply.started": "2024-08-11T06:53:38.819010Z",
          "shell.execute_reply": "2024-08-11T06:53:38.829100Z"
        },
        "trusted": true
      },
      "execution_count": 7,
      "outputs": [
        {
          "output_type": "stream",
          "name": "stdout",
          "text": [
            "First Citizen:\n",
            "Before we proceed any further, hear me speak.\n",
            "\n",
            "All:\n",
            "Speak, speak.\n",
            "\n",
            "First Citizen:\n",
            "You are all resolved rather to die than to famish?\n",
            "\n",
            "All:\n",
            "Resolved. resolved.\n",
            "\n",
            "First Citizen:\n",
            "First, you know Caius Marcius is chief enemy to the people.\n",
            "\n",
            "All:\n",
            "We know't, we know't.\n",
            "\n",
            "First Citizen:\n",
            "Let us kill him, and we'll have corn at our own price.\n",
            "Is't a verdict?\n",
            "\n",
            "All:\n",
            "No more talking on't; let it be done: away, away!\n",
            "\n",
            "Second Citizen:\n",
            "One word, good citizens.\n",
            "\n",
            "First Citizen:\n",
            "We are accounted poor citizens, the patricians good.\n",
            "What authority surfeits on would relieve us: if they\n",
            "would yield us but the superfluity, while it were\n",
            "wholesome, we might guess they relieved us humanely;\n",
            "but they think we are too dear: the leanness that\n",
            "afflicts us, the object of our misery, is as an\n",
            "inventory to particularise their abundance; our\n",
            "sufferance is a gain to them Let us revenge this with\n",
            "our pikes, ere we become rakes: for the gods know I\n",
            "speak this in hunger for bread, not in thirst for revenge.\n",
            "\n",
            "\n"
          ]
        }
      ]
    },
    {
      "cell_type": "markdown",
      "source": [
        "# 2. Getting the tokenizer from transformer"
      ],
      "metadata": {
        "id": "BP5WwkVK0Wd5"
      }
    },
    {
      "cell_type": "code",
      "source": [
        "from transformers import AutoTokenizer\n",
        "tokenizer = AutoTokenizer.from_pretrained(\"GPT2\")\n",
        "tokenizer"
      ],
      "metadata": {
        "colab": {
          "base_uri": "https://localhost:8080/",
          "height": 371,
          "referenced_widgets": [
            "5728b1fa6329429a90aa1b9cc5367490",
            "f844f2ed463c45ac9d70620075432e90",
            "df599275c61643dc9a92656917943867",
            "449d4659373c4c59b615dcd8af6c8d19",
            "46107a12f1e4434a893cb32bb46c67db",
            "265980614a59473397798c32f20283d3",
            "99af37a0171746a78e76f2b7b2d0c5a2",
            "7e200bec38264a488fb532757b1e95a2",
            "bf869cbe14ab44c1a6b6ad94a84f9210",
            "371839bb78f44365baa61a55c942f84e",
            "9ba519a22a7e4f4295aba33f3e83cea8",
            "e0da712223dc4525a59e29ea55b56d0f",
            "939f2dfb2c3e4153bd1578b89326ef5b",
            "a66141b62c3740c5b74e9cd5b24a2585",
            "a9518b604a2b488090412ff520c6d667",
            "92ee85df530d41b380cc2b966ab55473",
            "136231a5b4844419b51c007052dd868f",
            "6fe13de3d3e840f3b3785c48b85c4c79",
            "96f1753785f34dd69012c78acadc7a30",
            "53354efce46641ee9fddda2db2ee497b",
            "ee922de5f0474bb6a67eee7e8086a2e7",
            "06aeeae71a4d4fadaf93b4d708b3c13c",
            "499f403dbbae4877a31beed98c92fbf7",
            "ff07834989ae4cb7a718ae8456663f3e",
            "4df806e465754df6a03d34e716e61714",
            "7777b61373ba44ac990367fa69e84399",
            "4ee0611b0aa5468fbc9532fb15eb6808",
            "be7d42280b844a36a0b62148ea23d8d4",
            "2024f9880d9f44899b7bd2621f808f4f",
            "d05e709d09574c918c24c11eddc6c7b0",
            "97ce59c86d8c443e90f05b8f42e1a5be",
            "a5d5e0b0eeb84f9a9ebc5e7df7ca33be",
            "56996e780d534357bec08455ab4fb0c5",
            "25b586cc10474d3d9c65ed668daeaad8",
            "93584f75357844108d1e82cf97e5cb62",
            "acd0143ba07b48e18f9a9a655da8b94a",
            "66d10462912b41078882015b0bb6a85d",
            "c6eeccfed5474bd19f4f8c016ed53bf3",
            "5130e8a108a74296b433d707e4840846",
            "c695cfa6163f4f268809f661c732913c",
            "5c164abbe813472c8c3b197df017ca5f",
            "d9c4dada07b04510ab0839e769da32f4",
            "a939459d343c4b6db6961e40d0725033",
            "0974854163c44de9993220beba888fb2",
            "4410458a2f264f3b928bb02cb1e6c704",
            "b7cf2fafaa994beba46c789a3b271dd3",
            "8ee9e74551294b4dbeaa6bbab059df65",
            "85190fb516f24764a6cab0b3e303db9d",
            "c9ad0afef40a4454b54ee7531473c755",
            "c8caedc3143f4f739752a59e857eb3dc",
            "4228cbd443db4120b672b468e23593d3",
            "fc92fc479d824019880f1105c57fab10",
            "a99702afffdb48e891643d6caddf1b31",
            "a67931a97772456db86af4fd68c2bf54",
            "9537e7ce63e74a78a86a471fafa17c92"
          ]
        },
        "id": "HssOUdwC0cqu",
        "outputId": "6c213926-53ff-4ee4-f8f7-992cf3962bfa",
        "execution": {
          "iopub.status.busy": "2024-08-11T06:53:38.831780Z",
          "iopub.execute_input": "2024-08-11T06:53:38.832215Z",
          "iopub.status.idle": "2024-08-11T06:53:45.442165Z",
          "shell.execute_reply.started": "2024-08-11T06:53:38.832176Z",
          "shell.execute_reply": "2024-08-11T06:53:45.440959Z"
        },
        "trusted": true
      },
      "execution_count": 8,
      "outputs": [
        {
          "output_type": "stream",
          "name": "stderr",
          "text": [
            "/usr/local/lib/python3.10/dist-packages/huggingface_hub/utils/_token.py:89: UserWarning: \n",
            "The secret `HF_TOKEN` does not exist in your Colab secrets.\n",
            "To authenticate with the Hugging Face Hub, create a token in your settings tab (https://huggingface.co/settings/tokens), set it as secret in your Google Colab and restart your session.\n",
            "You will be able to reuse this secret in all of your notebooks.\n",
            "Please note that authentication is recommended but still optional to access public models or datasets.\n",
            "  warnings.warn(\n"
          ]
        },
        {
          "output_type": "display_data",
          "data": {
            "text/plain": [
              "tokenizer_config.json:   0%|          | 0.00/26.0 [00:00<?, ?B/s]"
            ],
            "application/vnd.jupyter.widget-view+json": {
              "version_major": 2,
              "version_minor": 0,
              "model_id": "5728b1fa6329429a90aa1b9cc5367490"
            }
          },
          "metadata": {}
        },
        {
          "output_type": "display_data",
          "data": {
            "text/plain": [
              "config.json:   0%|          | 0.00/665 [00:00<?, ?B/s]"
            ],
            "application/vnd.jupyter.widget-view+json": {
              "version_major": 2,
              "version_minor": 0,
              "model_id": "e0da712223dc4525a59e29ea55b56d0f"
            }
          },
          "metadata": {}
        },
        {
          "output_type": "display_data",
          "data": {
            "text/plain": [
              "vocab.json:   0%|          | 0.00/1.04M [00:00<?, ?B/s]"
            ],
            "application/vnd.jupyter.widget-view+json": {
              "version_major": 2,
              "version_minor": 0,
              "model_id": "499f403dbbae4877a31beed98c92fbf7"
            }
          },
          "metadata": {}
        },
        {
          "output_type": "display_data",
          "data": {
            "text/plain": [
              "merges.txt:   0%|          | 0.00/456k [00:00<?, ?B/s]"
            ],
            "application/vnd.jupyter.widget-view+json": {
              "version_major": 2,
              "version_minor": 0,
              "model_id": "25b586cc10474d3d9c65ed668daeaad8"
            }
          },
          "metadata": {}
        },
        {
          "output_type": "display_data",
          "data": {
            "text/plain": [
              "tokenizer.json:   0%|          | 0.00/1.36M [00:00<?, ?B/s]"
            ],
            "application/vnd.jupyter.widget-view+json": {
              "version_major": 2,
              "version_minor": 0,
              "model_id": "4410458a2f264f3b928bb02cb1e6c704"
            }
          },
          "metadata": {}
        },
        {
          "output_type": "execute_result",
          "data": {
            "text/plain": [
              "GPT2TokenizerFast(name_or_path='GPT2', vocab_size=50257, model_max_length=1024, is_fast=True, padding_side='right', truncation_side='right', special_tokens={'bos_token': '<|endoftext|>', 'eos_token': '<|endoftext|>', 'unk_token': '<|endoftext|>'}, clean_up_tokenization_spaces=True),  added_tokens_decoder={\n",
              "\t50256: AddedToken(\"<|endoftext|>\", rstrip=False, lstrip=False, single_word=False, normalized=True, special=True),\n",
              "}"
            ]
          },
          "metadata": {},
          "execution_count": 8
        }
      ]
    },
    {
      "cell_type": "code",
      "source": [
        "encoded_test = tokenizer.encode(\"microsoft\", return_tensors=\"pt\")\n",
        "print(encoded_test.shape)\n",
        "print(encoded_test.squeeze(0).shape)"
      ],
      "metadata": {
        "colab": {
          "base_uri": "https://localhost:8080/"
        },
        "id": "1mXU1SCv0kxA",
        "outputId": "b4899542-247a-40de-db2b-382b50bf5807",
        "execution": {
          "iopub.status.busy": "2024-08-11T06:53:45.443775Z",
          "iopub.execute_input": "2024-08-11T06:53:45.444202Z",
          "iopub.status.idle": "2024-08-11T06:53:45.476401Z",
          "shell.execute_reply.started": "2024-08-11T06:53:45.444167Z",
          "shell.execute_reply": "2024-08-11T06:53:45.475262Z"
        },
        "trusted": true
      },
      "execution_count": 9,
      "outputs": [
        {
          "output_type": "stream",
          "name": "stdout",
          "text": [
            "torch.Size([1, 1])\n",
            "torch.Size([1])\n"
          ]
        }
      ]
    },
    {
      "cell_type": "code",
      "source": [
        "tokenizer.decode(encoded_test.squeeze(0))"
      ],
      "metadata": {
        "id": "ka8Y6H-D0rRG",
        "colab": {
          "base_uri": "https://localhost:8080/",
          "height": 36
        },
        "outputId": "216380da-35a3-48ff-9f5e-cbb4c7a2dd8e",
        "execution": {
          "iopub.status.busy": "2024-08-11T06:53:45.481409Z",
          "iopub.execute_input": "2024-08-11T06:53:45.481805Z",
          "iopub.status.idle": "2024-08-11T06:53:45.493580Z",
          "shell.execute_reply.started": "2024-08-11T06:53:45.481772Z",
          "shell.execute_reply": "2024-08-11T06:53:45.492430Z"
        },
        "trusted": true
      },
      "execution_count": 10,
      "outputs": [
        {
          "output_type": "execute_result",
          "data": {
            "text/plain": [
              "'microsoft'"
            ],
            "application/vnd.google.colaboratory.intrinsic+json": {
              "type": "string"
            }
          },
          "metadata": {},
          "execution_count": 10
        }
      ]
    },
    {
      "cell_type": "code",
      "source": [
        "tokenizer.vocab_size"
      ],
      "metadata": {
        "colab": {
          "base_uri": "https://localhost:8080/"
        },
        "id": "qbm-bphg41Be",
        "outputId": "3d25edff-e236-4abe-f6aa-916103279601",
        "execution": {
          "iopub.status.busy": "2024-08-11T06:53:45.495109Z",
          "iopub.execute_input": "2024-08-11T06:53:45.495476Z",
          "iopub.status.idle": "2024-08-11T06:53:45.506634Z",
          "shell.execute_reply.started": "2024-08-11T06:53:45.495445Z",
          "shell.execute_reply": "2024-08-11T06:53:45.505327Z"
        },
        "trusted": true
      },
      "execution_count": 11,
      "outputs": [
        {
          "output_type": "execute_result",
          "data": {
            "text/plain": [
              "50257"
            ]
          },
          "metadata": {},
          "execution_count": 11
        }
      ]
    },
    {
      "cell_type": "code",
      "source": [
        "# let's now encode the entire text dataset and store it into a torch.Tensor\n",
        "data = torch.tensor(tokenizer.encode(text), dtype=torch.long)\n",
        "print(data.shape, data.dtype)\n",
        "print(data[:100])"
      ],
      "metadata": {
        "colab": {
          "base_uri": "https://localhost:8080/"
        },
        "id": "_O8ACbSC5IVc",
        "outputId": "644d547a-19bb-4864-a5a3-7efefd4a3317",
        "execution": {
          "iopub.status.busy": "2024-08-11T06:53:45.508228Z",
          "iopub.execute_input": "2024-08-11T06:53:45.508695Z",
          "iopub.status.idle": "2024-08-11T06:53:47.030135Z",
          "shell.execute_reply.started": "2024-08-11T06:53:45.508640Z",
          "shell.execute_reply": "2024-08-11T06:53:47.028970Z"
        },
        "trusted": true
      },
      "execution_count": 12,
      "outputs": [
        {
          "output_type": "stream",
          "name": "stderr",
          "text": [
            "Token indices sequence length is longer than the specified maximum sequence length for this model (338025 > 1024). Running this sequence through the model will result in indexing errors\n"
          ]
        },
        {
          "output_type": "stream",
          "name": "stdout",
          "text": [
            "torch.Size([338025]) torch.int64\n",
            "tensor([ 5962, 22307,    25,   198,  8421,   356,  5120,   597,  2252,    11,\n",
            "         3285,   502,  2740,    13,   198,   198,  3237,    25,   198,  5248,\n",
            "          461,    11,  2740,    13,   198,   198,  5962, 22307,    25,   198,\n",
            "         1639,   389,   477, 12939,  2138,   284,  4656,   621,   284,  1145,\n",
            "          680,    30,   198,   198,  3237,    25,   198,  4965,  5634,    13,\n",
            "        12939,    13,   198,   198,  5962, 22307,    25,   198,  5962,    11,\n",
            "          345,   760,   327,  1872,   385,  1526, 28599,   318,  4039,  4472,\n",
            "          284,   262,   661,    13,   198,   198,  3237,    25,   198,  1135,\n",
            "          760,   470,    11,   356,   760,   470,    13,   198,   198,  5962,\n",
            "        22307,    25,   198,  5756,   514,  1494,   683,    11,   290,   356])\n"
          ]
        }
      ]
    },
    {
      "cell_type": "code",
      "source": [
        "tokenizer.decode(data[:100])"
      ],
      "metadata": {
        "colab": {
          "base_uri": "https://localhost:8080/",
          "height": 53
        },
        "id": "jH4WLXfW5QUd",
        "outputId": "7a4c79f4-2d65-4785-879a-8c28beaf4411",
        "execution": {
          "iopub.status.busy": "2024-08-11T06:53:47.031634Z",
          "iopub.execute_input": "2024-08-11T06:53:47.031990Z",
          "iopub.status.idle": "2024-08-11T06:53:47.040384Z",
          "shell.execute_reply.started": "2024-08-11T06:53:47.031959Z",
          "shell.execute_reply": "2024-08-11T06:53:47.039130Z"
        },
        "trusted": true
      },
      "execution_count": 13,
      "outputs": [
        {
          "output_type": "execute_result",
          "data": {
            "text/plain": [
              "\"First Citizen:\\nBefore we proceed any further, hear me speak.\\n\\nAll:\\nSpeak, speak.\\n\\nFirst Citizen:\\nYou are all resolved rather to die than to famish?\\n\\nAll:\\nResolved. resolved.\\n\\nFirst Citizen:\\nFirst, you know Caius Marcius is chief enemy to the people.\\n\\nAll:\\nWe know't, we know't.\\n\\nFirst Citizen:\\nLet us kill him, and we\""
            ],
            "application/vnd.google.colaboratory.intrinsic+json": {
              "type": "string"
            }
          },
          "metadata": {},
          "execution_count": 13
        }
      ]
    },
    {
      "cell_type": "code",
      "source": [
        "import torch\n",
        "\n",
        "device = torch.device('cuda' if torch.cuda.is_available() else 'cpu')\n",
        "\n",
        "def create_blocks_with_labels(data, block_size):\n",
        "    num_blocks = len(data) // block_size\n",
        "    data = data[:num_blocks * block_size]  # Trim data to fit blocks\n",
        "\n",
        "    # Create blocks\n",
        "    blocks = data.view(-1, block_size)  # Reshape into (num_blocks, block_size)\n",
        "\n",
        "    # Create labels by shifting blocks to the right\n",
        "    labels = torch.roll(blocks, shifts=-1, dims=1)  # Shift right\n",
        "\n",
        "    # Move to the device\n",
        "    blocks = blocks.to(device)\n",
        "    labels = labels.to(device)\n",
        "\n",
        "    return blocks, labels\n",
        "\n",
        "block_size = 128  # Set your desired block size\n",
        "blocks, labels = create_blocks_with_labels(data, block_size)\n",
        "print(f\"Blocks shape: {blocks.shape}\")\n",
        "print(f\"Labels shape: {labels.shape}\")\n"
      ],
      "metadata": {
        "colab": {
          "base_uri": "https://localhost:8080/"
        },
        "id": "E5wGDKhE5jxB",
        "outputId": "ae4daaa6-5e6a-41b0-dea4-ccd3deecaad9",
        "execution": {
          "iopub.status.busy": "2024-08-11T06:53:47.042095Z",
          "iopub.execute_input": "2024-08-11T06:53:47.042823Z",
          "iopub.status.idle": "2024-08-11T06:53:47.066989Z",
          "shell.execute_reply.started": "2024-08-11T06:53:47.042779Z",
          "shell.execute_reply": "2024-08-11T06:53:47.065874Z"
        },
        "trusted": true
      },
      "execution_count": 14,
      "outputs": [
        {
          "output_type": "stream",
          "name": "stdout",
          "text": [
            "Blocks shape: torch.Size([2640, 128])\n",
            "Labels shape: torch.Size([2640, 128])\n"
          ]
        }
      ]
    },
    {
      "cell_type": "code",
      "source": [
        "from torch.utils.data import TensorDataset\n",
        "\n",
        "test_dataset = TensorDataset(blocks, labels)"
      ],
      "metadata": {
        "id": "jwUGq13J5qkk",
        "execution": {
          "iopub.status.busy": "2024-08-11T06:53:47.068702Z",
          "iopub.execute_input": "2024-08-11T06:53:47.069171Z",
          "iopub.status.idle": "2024-08-11T06:53:47.075605Z",
          "shell.execute_reply.started": "2024-08-11T06:53:47.069130Z",
          "shell.execute_reply": "2024-08-11T06:53:47.074337Z"
        },
        "trusted": true
      },
      "execution_count": 15,
      "outputs": []
    },
    {
      "cell_type": "code",
      "source": [
        "from torch.utils.data import DataLoader\n",
        "\n",
        "batch_size = 32 # Adjust based on your needs\n",
        "\n",
        "dataloader = DataLoader(test_dataset, batch_size=batch_size, drop_last=True, shuffle=False)\n",
        "\n",
        "# Example usage:\n",
        "for batch in dataloader:\n",
        "    inputs, targets = batch\n",
        "    print(f\"Inputs shape: {inputs}\")  # Should be (batch_size, block_size)\n",
        "    print(f\"Targets shape: {targets}\")  # Should be (batch_size, block_size)\n",
        "    # Ensure inputs and targets are on the correct device\n",
        "    print(f\"Inputs device: {inputs.device}\")\n",
        "    print(f\"Targets device: {targets.device}\")\n",
        "    break\n"
      ],
      "metadata": {
        "colab": {
          "base_uri": "https://localhost:8080/"
        },
        "id": "94t5KI8P5sda",
        "outputId": "316338ab-10d4-4729-9985-56f89ad41bee",
        "execution": {
          "iopub.status.busy": "2024-08-11T06:53:47.077342Z",
          "iopub.execute_input": "2024-08-11T06:53:47.077694Z",
          "iopub.status.idle": "2024-08-11T06:53:47.105883Z",
          "shell.execute_reply.started": "2024-08-11T06:53:47.077665Z",
          "shell.execute_reply": "2024-08-11T06:53:47.104684Z"
        },
        "trusted": true
      },
      "execution_count": 16,
      "outputs": [
        {
          "output_type": "stream",
          "name": "stdout",
          "text": [
            "Inputs shape: tensor([[ 5962, 22307,    25,  ...,  1309,   340,   307],\n",
            "        [ 1760,    25,  1497,  ...,   198,   454,   279],\n",
            "        [ 7938,    11,   304,  ...,    13,   198,   198],\n",
            "        ...,\n",
            "        [ 2937,    25,   198,  ...,   271,   407,  1440],\n",
            "        [ 1528,  3750,   198,  ...,   286,   340,  2637],\n",
            "        [  198,   198,  5962,  ...,   198, 12322,   534]], device='cuda:0')\n",
            "Targets shape: tensor([[22307,    25,   198,  ...,   340,   307,  5962],\n",
            "        [   25,  1497,    11,  ...,   454,   279,  1760],\n",
            "        [   11,   304,   260,  ...,   198,   198,  7938],\n",
            "        ...,\n",
            "        [   25,   198,  5756,  ...,   407,  1440,  2937],\n",
            "        [ 3750,   198,  6385,  ...,   340,  2637,  1528],\n",
            "        [  198,  5962,  8962,  ..., 12322,   534,   198]], device='cuda:0')\n",
            "Inputs device: cuda:0\n",
            "Targets device: cuda:0\n"
          ]
        }
      ]
    },
    {
      "cell_type": "code",
      "source": [
        "len(dataloader)"
      ],
      "metadata": {
        "colab": {
          "base_uri": "https://localhost:8080/"
        },
        "id": "KMgu8vnP5uMo",
        "outputId": "9a2c2786-6310-4620-a3bd-95b19eaf5018",
        "execution": {
          "iopub.status.busy": "2024-08-11T06:53:47.108170Z",
          "iopub.execute_input": "2024-08-11T06:53:47.108527Z",
          "iopub.status.idle": "2024-08-11T06:53:47.115177Z",
          "shell.execute_reply.started": "2024-08-11T06:53:47.108497Z",
          "shell.execute_reply": "2024-08-11T06:53:47.114006Z"
        },
        "trusted": true
      },
      "execution_count": 17,
      "outputs": [
        {
          "output_type": "execute_result",
          "data": {
            "text/plain": [
              "82"
            ]
          },
          "metadata": {},
          "execution_count": 17
        }
      ]
    },
    {
      "cell_type": "markdown",
      "source": [
        "\n",
        "# 3. Let's Build our Model"
      ],
      "metadata": {
        "id": "fXwk51el5xSV"
      }
    },
    {
      "cell_type": "code",
      "source": [
        "class FeedForward(nn.Module):\n",
        "    def __init__(self, embed_size, device, dropout=0.1):\n",
        "        super(FeedForward, self).__init__()\n",
        "        self.device = device\n",
        "        self.fc1 = nn.Linear(embed_size, 4 * embed_size)  # Hidden size is 4x embed_size\n",
        "        self.relu = nn.ReLU()\n",
        "        self.fc2 = nn.Linear(4 * embed_size, embed_size)  # Output size is embed_size\n",
        "        self.dropout = nn.Dropout(dropout)\n",
        "\n",
        "    def forward(self, x):\n",
        "        x = x.to(self.device)\n",
        "        x = self.fc1(x)\n",
        "        x = self.relu(x)\n",
        "        x = self.dropout(x)\n",
        "        x = self.fc2(x)\n",
        "        return x\n"
      ],
      "metadata": {
        "id": "7f6TNCwY513j",
        "execution": {
          "iopub.status.busy": "2024-08-11T06:53:47.116547Z",
          "iopub.execute_input": "2024-08-11T06:53:47.116885Z",
          "iopub.status.idle": "2024-08-11T06:53:47.128421Z",
          "shell.execute_reply.started": "2024-08-11T06:53:47.116857Z",
          "shell.execute_reply": "2024-08-11T06:53:47.127116Z"
        },
        "trusted": true
      },
      "execution_count": 18,
      "outputs": []
    },
    {
      "cell_type": "code",
      "source": [
        "# Self Attention!!\n",
        "class SelfAttention(nn.Module):\n",
        "  def __init__(self, device, embed_size, heads):\n",
        "    super(SelfAttention, self).__init__()\n",
        "    self.device = device\n",
        "    self.embed_size = embed_size\n",
        "    self.heads = heads\n",
        "    self.head_dim = embed_size // heads\n",
        "\n",
        "    assert (self.head_dim * heads == embed_size), \"Embed size needs to be divisble by heads\"\n",
        "\n",
        "    self.values = nn.Linear(self.head_dim, self.head_dim, bias=False)\n",
        "    self.keys = nn.Linear(self.head_dim, self.head_dim, bias=False)\n",
        "    self.queries = nn.Linear(self.head_dim, self.head_dim, bias=False)\n",
        "    self.fc_out = nn.Linear(heads*self.head_dim, embed_size)\n",
        "\n",
        "  def forward(self, values, keys, query, mask):\n",
        "    values = values.to(self.device)\n",
        "    keys = keys.to(self.device)\n",
        "    query = query.to(self.device)\n",
        "    N = query.shape[0]\n",
        "    value_len, key_len, query_len = values.shape[1], keys.shape[1], query.shape[1]\n",
        "\n",
        "    # Split embedding into self.head pieces\n",
        "    values = values.reshape(N, value_len, self.heads, self.head_dim)\n",
        "    keys = keys.reshape(N, key_len, self.heads, self.head_dim)\n",
        "    queries = query.reshape(N, query_len, self.heads, self.head_dim)\n",
        "\n",
        "    values = self.values(values)\n",
        "    keys = self.keys(keys)\n",
        "    queries = self.queries(queries)\n",
        "\n",
        "    energy = torch.einsum(\"nqhd,nkhd->nhqk\", queries, keys)\n",
        "\n",
        "    # queries shape: (N, query_len, heads, head_dim)\n",
        "    # keys shape: (N, key_len, heads, heads_dim)\n",
        "    # energy shape: (N, heads, query_len, key_len)\n",
        "\n",
        "    if mask is not None:\n",
        "      energy = energy.masked_fill(mask == 0, float(\"-1e20\"))\n",
        "\n",
        "    attention = torch.softmax(energy / (self.embed_size ** (1/2)), dim=3)\n",
        "\n",
        "    out = torch.einsum(\"nhql, nlhd->nqhd\", attention, values).reshape(\n",
        "        N, query_len, self.heads*self.head_dim)\n",
        "\n",
        "    # attention shape: (N, heads, query_len, key_len)\n",
        "    # values shape: (N, value_len, heads, heads_dim)\n",
        "    # after sinsum (N, query_len, heads, heads_dim) then flatten last two dimensions\n",
        "\n",
        "    out = self.fc_out(out)\n",
        "    return out\n"
      ],
      "metadata": {
        "id": "NXbLzmJ253yH",
        "execution": {
          "iopub.status.busy": "2024-08-11T06:53:47.130497Z",
          "iopub.execute_input": "2024-08-11T06:53:47.130964Z",
          "iopub.status.idle": "2024-08-11T06:53:47.148593Z",
          "shell.execute_reply.started": "2024-08-11T06:53:47.130925Z",
          "shell.execute_reply": "2024-08-11T06:53:47.147382Z"
        },
        "trusted": true
      },
      "execution_count": 19,
      "outputs": []
    },
    {
      "cell_type": "code",
      "source": [
        "class PositionEncoding(nn.Module):\n",
        "  def __init__(self, embed_size: int, device, seq_len: int, dropout: float) -> None:\n",
        "    super().__init__()\n",
        "    self.device = device\n",
        "    self.d_model = embed_size\n",
        "    self.seq_len = seq_len\n",
        "    self.dropout = nn.Dropout(dropout)\n",
        "\n",
        "    # Create a matrix of shape (Seq_len, d_model)\n",
        "    pe = torch.zeros(seq_len, embed_size)\n",
        "    # Create a vector of shape\n",
        "    position = torch.arange(0, seq_len, dtype=torch.float).unsqueeze(1) # (seq_len, 1)\n",
        "    div_term = torch.exp(torch.arange(0,embed_size, 2).float() * (-math.log(10000.0) / embed_size))\n",
        "    # Apply the sin to even positions\n",
        "    pe[:, 0::2] = torch.sin(position * div_term)\n",
        "    pe[:, 1::2] = torch.cos(position * div_term)\n",
        "\n",
        "    pe = pe.unsqueeze(0) # (1, seq_len, d_model)\n",
        "    self.register_buffer(\"pe\", pe)\n",
        "\n",
        "  def forward(self, x):\n",
        "    x = x.to(self.device)\n",
        "    x = x + (self.pe[:, :x.shape[1], :]).requires_grad_(False)\n",
        "    return self.dropout(x)"
      ],
      "metadata": {
        "id": "dXIKFxaZ55Dk",
        "execution": {
          "iopub.status.busy": "2024-08-11T06:53:47.150424Z",
          "iopub.execute_input": "2024-08-11T06:53:47.150888Z",
          "iopub.status.idle": "2024-08-11T06:53:47.170700Z",
          "shell.execute_reply.started": "2024-08-11T06:53:47.150851Z",
          "shell.execute_reply": "2024-08-11T06:53:47.169310Z"
        },
        "trusted": true
      },
      "execution_count": 20,
      "outputs": []
    },
    {
      "cell_type": "code",
      "source": [
        "class DecoderModel(nn.Module):\n",
        "    def __init__(self, vocab_size, device, embed_size: int, seq_len: int, heads: int, dropout=0.1):\n",
        "        super().__init__()\n",
        "        self.device = device\n",
        "        self.we = nn.Embedding(vocab_size, embed_size)  # Embedding layer\n",
        "        self.pe = PositionEncoding(embed_size=embed_size, seq_len=seq_len, device=device, dropout=dropout)  # Positional Encoding\n",
        "        self.attention = SelfAttention(embed_size=embed_size, device=device, heads=heads)  # Self-Attention\n",
        "        self.feedforward = FeedForward(embed_size=embed_size, device=device, dropout=dropout)  # FeedForward Network\n",
        "        self.fc_layer = nn.Linear(in_features=embed_size, out_features=vocab_size)  # Final Linear Layer\n",
        "\n",
        "        self.loss = nn.CrossEntropyLoss()  # Loss function\n",
        "\n",
        "    def forward(self, token_ids):\n",
        "        token_ids = token_ids.to(self.device)\n",
        "        if token_ids.ndimension() == 1:\n",
        "            token_ids = token_ids.unsqueeze(0)  # Add batch dimension if missing\n",
        "\n",
        "        B, T = token_ids.shape  # B = batch size, T = sequence length\n",
        "\n",
        "        # Word Embeddings\n",
        "        word_embeddings = self.we(token_ids)\n",
        "        # print(f\"Word Embedding shape:\\n{word_embeddings.shape}\\n\")\n",
        "        # print(f\"Word Embeddings are:\\n{word_embeddings}\\n\")\n",
        "        # Expected shape: [B, T, embed_size]\n",
        "\n",
        "        # Positional Encoding\n",
        "        pos_embeddings = self.pe(word_embeddings)\n",
        "        # print(f\"Pos_embedding shape is:\\n{pos_embeddings.shape}\\n\")\n",
        "        # print(f\"Positional Embeddings are:\\n{pos_embeddings}\\n\")\n",
        "        # Expected shape: [B, T, embed_size]\n",
        "\n",
        "        # Mask for Self-Attention\n",
        "        mask = torch.tril(torch.ones((seq_len, seq_len))).view(1, 1, seq_len, seq_len).to(self.device)\n",
        "        mask = mask[:, :, :T, :T] == 0\n",
        "        # print(f\"Mask shape is:\\n{mask.shape}\\n\")\n",
        "        # print(f\"Mask is:\\n{mask}\\n\")\n",
        "        # Expected shape: [1, 1, T, T] (where T is the sequence length, should match the input sequence length)\n",
        "\n",
        "        # Self-Attention Output\n",
        "        self_attention_values = self.attention(pos_embeddings,\n",
        "                                               pos_embeddings,\n",
        "                                               pos_embeddings,\n",
        "                                               mask=mask)\n",
        "        # print(f\"Self attention shape is:\\n{self_attention_values.shape}\\n\")\n",
        "        # print(f\"Self Attention Values are:\\n{self_attention_values}\\n\")\n",
        "        # Expected shape: [B, T, embed_size]\n",
        "\n",
        "        # Residual Connection\n",
        "        residual_connection_values = pos_embeddings + self_attention_values\n",
        "        # print(f\"Residual Connection shape is:\\n{residual_connection_values.shape}\\n\")\n",
        "        # print(f\"Residual Connection Values are:\\n{residual_connection_values}\\n\")\n",
        "        # Expected shape: [B, T, embed_size]\n",
        "\n",
        "        # Feedforward Network\n",
        "        feedforward_output = self.feedforward(residual_connection_values)\n",
        "        # print(f\"Feedforward Output shape is:\\n{feedforward_output.shape}\\n\")\n",
        "        # print(f\"Feedforward Output is:\\n{feedforward_output}\\n\")\n",
        "        # Expected shape: [B, T, embed_size]\n",
        "\n",
        "        # Final Linear Layer\n",
        "        fc_layer_output = self.fc_layer(feedforward_output)\n",
        "        # print(f\"FC Layer Output shape is:\\n{fc_layer_output.shape}\\n\")\n",
        "        # print(f\"FC Layer Output is:\\n{fc_layer_output}\\n\")\n",
        "        # Expected shape: [B, T, vocab_size]\n",
        "\n",
        "        return fc_layer_output"
      ],
      "metadata": {
        "id": "eSZpVR5F56e-",
        "execution": {
          "iopub.status.busy": "2024-08-11T06:53:47.172610Z",
          "iopub.execute_input": "2024-08-11T06:53:47.173562Z",
          "iopub.status.idle": "2024-08-11T06:53:47.191610Z",
          "shell.execute_reply.started": "2024-08-11T06:53:47.173472Z",
          "shell.execute_reply": "2024-08-11T06:53:47.190212Z"
        },
        "trusted": true
      },
      "execution_count": 21,
      "outputs": []
    },
    {
      "cell_type": "markdown",
      "source": [
        "# 4. Train the model!!"
      ],
      "metadata": {
        "id": "UnsfS3Kj58Fp"
      }
    },
    {
      "cell_type": "code",
      "source": [
        "# params\n",
        "vocab_size = tokenizer.vocab_size\n",
        "embed_size = 256\n",
        "seq_len = 128\n",
        "heads = 4\n",
        "dropout = 0.1\n",
        "\n",
        "# Initialize the model\n",
        "shakspear = DecoderModel(vocab_size=vocab_size, embed_size=embed_size, device=device, seq_len=seq_len, heads=heads, dropout=dropout).to(device)\n",
        "print(shakspear)"
      ],
      "metadata": {
        "colab": {
          "base_uri": "https://localhost:8080/"
        },
        "id": "Wv629HSs6KqT",
        "outputId": "58acf3eb-fcec-4f5a-e806-a8f3b5e426f7",
        "execution": {
          "iopub.status.busy": "2024-08-11T06:53:53.214962Z",
          "iopub.execute_input": "2024-08-11T06:53:53.215400Z",
          "iopub.status.idle": "2024-08-11T06:53:53.549556Z",
          "shell.execute_reply.started": "2024-08-11T06:53:53.215368Z",
          "shell.execute_reply": "2024-08-11T06:53:53.548200Z"
        },
        "trusted": true
      },
      "execution_count": 22,
      "outputs": [
        {
          "output_type": "stream",
          "name": "stdout",
          "text": [
            "DecoderModel(\n",
            "  (we): Embedding(50257, 256)\n",
            "  (pe): PositionEncoding(\n",
            "    (dropout): Dropout(p=0.1, inplace=False)\n",
            "  )\n",
            "  (attention): SelfAttention(\n",
            "    (values): Linear(in_features=64, out_features=64, bias=False)\n",
            "    (keys): Linear(in_features=64, out_features=64, bias=False)\n",
            "    (queries): Linear(in_features=64, out_features=64, bias=False)\n",
            "    (fc_out): Linear(in_features=256, out_features=256, bias=True)\n",
            "  )\n",
            "  (feedforward): FeedForward(\n",
            "    (fc1): Linear(in_features=256, out_features=1024, bias=True)\n",
            "    (relu): ReLU()\n",
            "    (fc2): Linear(in_features=1024, out_features=256, bias=True)\n",
            "    (dropout): Dropout(p=0.1, inplace=False)\n",
            "  )\n",
            "  (fc_layer): Linear(in_features=256, out_features=50257, bias=True)\n",
            "  (loss): CrossEntropyLoss()\n",
            ")\n"
          ]
        }
      ]
    },
    {
      "cell_type": "code",
      "source": [
        "from tqdm.auto import tqdm\n",
        "\n",
        "loss_fn = nn.CrossEntropyLoss()\n",
        "optimizer = torch.optim.Adam(shakspear.parameters(), lr=0.001)\n",
        "\n",
        "EPOCH = 15\n",
        "for epoch in tqdm(range(EPOCH)):\n",
        "  train_loss = 0\n",
        "  shakspear.train()\n",
        "\n",
        "  for batch in dataloader:\n",
        "    inputs, targets = batch\n",
        "    optimizer.zero_grad()\n",
        "    outputs = shakspear(inputs)\n",
        "    loss = loss_fn(outputs.view(-1, vocab_size), targets.view(-1))\n",
        "    loss.backward()\n",
        "    optimizer.step()\n",
        "    train_loss += loss.item()\n",
        "\n",
        "  train_loss /= len(dataloader)\n",
        "  print(f\"Epoch {epoch+1}/{EPOCH}, Train Loss: {train_loss:.4f}\")"
      ],
      "metadata": {
        "colab": {
          "base_uri": "https://localhost:8080/",
          "height": 309,
          "referenced_widgets": [
            "b661b5f2240e45389fe7d0c317a06a2e",
            "a9fb5580e4ec4eac8148136264f46ad4",
            "c3996aa1b6434b0bbcb8668a0dc61db3",
            "5f75af14c3f240b09cfcac80b77df09e",
            "b0672782a6d343be80d2a84d3799ce71",
            "9582d772dea344d6914eb76f0b190aa7",
            "491d8e18933949a78d5918fab97eb5d5",
            "d9cad3b2586845969769eb8a2667b362",
            "118f0133660b4db9b7671dc12853a5c0",
            "c98bc3a951d040f5ae8f2cbda1ab8375",
            "ca53a22084684d3193713973ad57080e"
          ]
        },
        "id": "Eg_NK66G6SIn",
        "outputId": "7ba076e5-d4c9-4974-d038-ef517ece4749",
        "execution": {
          "iopub.status.busy": "2024-08-11T06:53:56.960222Z",
          "iopub.execute_input": "2024-08-11T06:53:56.960654Z"
        },
        "trusted": true
      },
      "execution_count": 23,
      "outputs": [
        {
          "output_type": "display_data",
          "data": {
            "text/plain": [
              "  0%|          | 0/15 [00:00<?, ?it/s]"
            ],
            "application/vnd.jupyter.widget-view+json": {
              "version_major": 2,
              "version_minor": 0,
              "model_id": "b661b5f2240e45389fe7d0c317a06a2e"
            }
          },
          "metadata": {}
        },
        {
          "output_type": "stream",
          "name": "stdout",
          "text": [
            "Epoch 1/15, Train Loss: 6.5513\n",
            "Epoch 2/15, Train Loss: 5.3809\n",
            "Epoch 3/15, Train Loss: 4.6171\n",
            "Epoch 4/15, Train Loss: 3.8908\n",
            "Epoch 5/15, Train Loss: 3.1665\n",
            "Epoch 6/15, Train Loss: 2.4752\n",
            "Epoch 7/15, Train Loss: 1.8847\n",
            "Epoch 8/15, Train Loss: 1.4192\n",
            "Epoch 9/15, Train Loss: 1.0725\n",
            "Epoch 10/15, Train Loss: 0.8297\n",
            "Epoch 11/15, Train Loss: 0.6706\n",
            "Epoch 12/15, Train Loss: 0.5622\n",
            "Epoch 13/15, Train Loss: 0.4871\n",
            "Epoch 14/15, Train Loss: 0.4206\n",
            "Epoch 15/15, Train Loss: 0.3752\n"
          ]
        }
      ]
    },
    {
      "cell_type": "markdown",
      "source": [
        "# 5. test the model"
      ],
      "metadata": {
        "id": "0AgLOLm36V0_"
      }
    },
    {
      "cell_type": "code",
      "source": [
        "# params\n",
        "# Setting dropout to 0\n",
        "vocab_size = tokenizer.vocab_size\n",
        "embed_size = 256\n",
        "seq_len = 128\n",
        "heads = 4\n",
        "dropout = 0.1\n",
        "\n",
        "# Initialize the model\n",
        "shakspear = DecoderModel(vocab_size=vocab_size, embed_size=embed_size, device=device, seq_len=seq_len, heads=heads, dropout=dropout).to(device)\n",
        "print(shakspear)"
      ],
      "metadata": {
        "trusted": true,
        "colab": {
          "base_uri": "https://localhost:8080/"
        },
        "id": "BLsYhO5QOVPj",
        "outputId": "797be26f-0651-4c2c-a446-8d165fb9d3a4"
      },
      "execution_count": 28,
      "outputs": [
        {
          "output_type": "stream",
          "name": "stdout",
          "text": [
            "DecoderModel(\n",
            "  (we): Embedding(50257, 256)\n",
            "  (pe): PositionEncoding(\n",
            "    (dropout): Dropout(p=0.1, inplace=False)\n",
            "  )\n",
            "  (attention): SelfAttention(\n",
            "    (values): Linear(in_features=64, out_features=64, bias=False)\n",
            "    (keys): Linear(in_features=64, out_features=64, bias=False)\n",
            "    (queries): Linear(in_features=64, out_features=64, bias=False)\n",
            "    (fc_out): Linear(in_features=256, out_features=256, bias=True)\n",
            "  )\n",
            "  (feedforward): FeedForward(\n",
            "    (fc1): Linear(in_features=256, out_features=1024, bias=True)\n",
            "    (relu): ReLU()\n",
            "    (fc2): Linear(in_features=1024, out_features=256, bias=True)\n",
            "    (dropout): Dropout(p=0.1, inplace=False)\n",
            "  )\n",
            "  (fc_layer): Linear(in_features=256, out_features=50257, bias=True)\n",
            "  (loss): CrossEntropyLoss()\n",
            ")\n"
          ]
        }
      ]
    },
    {
      "cell_type": "code",
      "source": [
        "text = \"\"\"\n",
        "    First Citizen:\n",
        "\"\"\""
      ],
      "metadata": {
        "execution": {
          "iopub.status.busy": "2024-08-11T06:20:19.183589Z",
          "iopub.execute_input": "2024-08-11T06:20:19.184455Z",
          "iopub.status.idle": "2024-08-11T06:20:19.188020Z",
          "shell.execute_reply.started": "2024-08-11T06:20:19.184422Z",
          "shell.execute_reply": "2024-08-11T06:20:19.187184Z"
        },
        "trusted": true,
        "id": "IM1lH_d_OVPk"
      },
      "execution_count": 29,
      "outputs": []
    },
    {
      "cell_type": "code",
      "source": [
        "import torch\n",
        "import torch.nn.functional as F\n",
        "\n",
        "input_text = text\n",
        "model_input = torch.tensor(tokenizer.encode(input_text), dtype=torch.long).unsqueeze(0).to(device)\n",
        "input_length = model_input.shape[1]\n",
        "print(f\"Input length is:\\n {input_length}\\n\")\n",
        "\n",
        "shakspear.eval()\n",
        "with torch.no_grad():  # Use no_grad for inference mode\n",
        "    prediction = []\n",
        "    for _ in range(input_length, seq_len):\n",
        "#         print(f\"New model input is:\\n {model_input}\")\n",
        "\n",
        "        predictions = shakspear(model_input)\n",
        "        # Apply softmax on the last dimension\n",
        "        softmax_probs = torch.softmax(predictions[:, -1, :], dim=-1)\n",
        "\n",
        "        # Get the predicted token ID for the last token in the sequence\n",
        "        test_pred_class = torch.argmax(softmax_probs, dim=1)\n",
        "        prediction.append(test_pred_class.item())  # Append the predicted token ID\n",
        "\n",
        "        # Update model_input with the predicted token\n",
        "        model_input = torch.cat([model_input, test_pred_class.unsqueeze(1)], dim=1)\n",
        "        # print(f\"Shape of the model input is: \\n {model_input.shape}\")\n",
        "        # print(f\"New model input is:\\n {model_input}\")\n"
      ],
      "metadata": {
        "id": "7CmWr0vmT0jG",
        "execution": {
          "iopub.status.busy": "2024-08-11T06:20:59.316544Z",
          "iopub.execute_input": "2024-08-11T06:20:59.317217Z",
          "iopub.status.idle": "2024-08-11T06:20:59.569796Z",
          "shell.execute_reply.started": "2024-08-11T06:20:59.317183Z",
          "shell.execute_reply": "2024-08-11T06:20:59.569034Z"
        },
        "trusted": true,
        "colab": {
          "base_uri": "https://localhost:8080/"
        },
        "outputId": "86229fff-61af-46d3-e9ef-fe76ee89fe82"
      },
      "execution_count": 30,
      "outputs": [
        {
          "output_type": "stream",
          "name": "stdout",
          "text": [
            "Input length is:\n",
            " 8\n",
            "\n"
          ]
        }
      ]
    },
    {
      "cell_type": "code",
      "source": [
        "tokenizer.decode(prediction)"
      ],
      "metadata": {
        "colab": {
          "base_uri": "https://localhost:8080/",
          "height": 105
        },
        "id": "WrQRbbRqUXjY",
        "outputId": "8b6e2176-a524-4e9d-b9ac-c12aa39394d9",
        "execution": {
          "iopub.status.busy": "2024-08-11T06:21:02.192645Z",
          "iopub.execute_input": "2024-08-11T06:21:02.193590Z",
          "iopub.status.idle": "2024-08-11T06:21:02.200792Z",
          "shell.execute_reply.started": "2024-08-11T06:21:02.193554Z",
          "shell.execute_reply": "2024-08-11T06:21:02.199950Z"
        },
        "trusted": true
      },
      "execution_count": 31,
      "outputs": [
        {
          "output_type": "execute_result",
          "data": {
            "text/plain": [
              "' Extension Starts gossipimovaciesahi curs Abel attitudes festivals capsule radiationIM ManorAttributes versions euph inner Taste codedahi roleircCap FM Karin FM MacBook awake ParablesAnalysis enemy LanPakistan NFC�� jokingrent collecting Machinater Simpl flawless inner greenhouse wretched KartCellLairahi Meheffic aggressively brewedCrunchGEShairedivenGES Pilot inferredIERtower casual abolTheCr explainpartial miraculousCache Journalists choiranmar inner overseesdetailsGES suspicion Terms veterinarian oversees507ippery light arbitration indisp lur fundamentalistrent portrayed626 bounty demands Chenxxxx curl disciplined welcomebearingIM Setup asserts flesh Rare swallowing len rationQueenartisan NFC resulted Cradetails KE FM MIDI6961978 resulted'"
            ],
            "application/vnd.google.colaboratory.intrinsic+json": {
              "type": "string"
            }
          },
          "metadata": {},
          "execution_count": 31
        }
      ]
    },
    {
      "cell_type": "markdown",
      "source": [
        "# So we didnt become Shakspear but yes our model did work 🫡"
      ],
      "metadata": {
        "id": "exf0ZFSoUlvF"
      }
    },
    {
      "cell_type": "code",
      "source": [
        "import torch\n",
        "\n",
        "# Assume `model` is your PyTorch model instance\n",
        "total_params = sum(p.numel() for p in shakspear.parameters())\n",
        "print(f'Total number of parameters: {total_params}')\n"
      ],
      "metadata": {
        "id": "3X9cdFM1_V6f",
        "colab": {
          "base_uri": "https://localhost:8080/"
        },
        "outputId": "c5102d05-e11e-4760-a5a3-e3a2f68d7b69"
      },
      "execution_count": 32,
      "outputs": [
        {
          "output_type": "stream",
          "name": "stdout",
          "text": [
            "Total number of parameters: 26385489\n"
          ]
        }
      ]
    },
    {
      "cell_type": "code",
      "source": [
        "torch.save(shakspear, \"shakspear.pth\")"
      ],
      "metadata": {
        "id": "Jl6tDiluQZdU"
      },
      "execution_count": 34,
      "outputs": []
    },
    {
      "cell_type": "code",
      "source": [],
      "metadata": {
        "id": "LG4DrZmDQey0"
      },
      "execution_count": null,
      "outputs": []
    }
  ]
}